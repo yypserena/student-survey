{
 "cells": [
  {
   "cell_type": "code",
   "execution_count": 64,
   "metadata": {
    "id": "03751bb0"
   },
   "outputs": [],
   "source": [
    "import pandas as pd"
   ]
  },
  {
   "cell_type": "code",
   "execution_count": 65,
   "metadata": {
    "id": "8fa18108"
   },
   "outputs": [],
   "source": [
    "x = pd.read_csv(r\"C:\\Users\\User\\Downloads\\Survey (3).csv\", header=[0,1], index_col = [0,1] )"
   ]
  },
  {
   "cell_type": "code",
   "execution_count": 66,
   "metadata": {
    "colab": {
     "base_uri": "https://localhost:8080/",
     "height": 724
    },
    "id": "6VVyWuJcHHX6",
    "outputId": "ebae5f02-a54e-4891-bbde-f97cd77908ad"
   },
   "outputs": [
    {
     "data": {
      "text/html": [
       "<div>\n",
       "<style scoped>\n",
       "    .dataframe tbody tr th:only-of-type {\n",
       "        vertical-align: middle;\n",
       "    }\n",
       "\n",
       "    .dataframe tbody tr th {\n",
       "        vertical-align: top;\n",
       "    }\n",
       "\n",
       "    .dataframe thead tr th {\n",
       "        text-align: left;\n",
       "    }\n",
       "</style>\n",
       "<table border=\"1\" class=\"dataframe\">\n",
       "  <thead>\n",
       "    <tr>\n",
       "      <th></th>\n",
       "      <th>學系</th>\n",
       "      <th colspan=\"10\" halign=\"left\">任職工作部門</th>\n",
       "      <th>...</th>\n",
       "      <th colspan=\"10\" halign=\"left\">那些學習經驗對工作有幫助</th>\n",
       "    </tr>\n",
       "    <tr>\n",
       "      <th></th>\n",
       "      <th></th>\n",
       "      <th>人力資源/培訓部門</th>\n",
       "      <th>企劃/行銷部門</th>\n",
       "      <th>公關部門</th>\n",
       "      <th>其他部門</th>\n",
       "      <th>品保部門</th>\n",
       "      <th>客服部門</th>\n",
       "      <th>工程部門</th>\n",
       "      <th>市場調查部門</th>\n",
       "      <th>採購部門</th>\n",
       "      <th>教育訓練部門</th>\n",
       "      <th>...</th>\n",
       "      <th>其他訓練</th>\n",
       "      <th>參與國際交流活動</th>\n",
       "      <th>同學及老師人脈</th>\n",
       "      <th>專業知識、之能傳授</th>\n",
       "      <th>志工服務、服務學習</th>\n",
       "      <th>業界實習</th>\n",
       "      <th>研究或教學助理</th>\n",
       "      <th>社團活動</th>\n",
       "      <th>語言學習</th>\n",
       "      <th>課程實務/實作活動</th>\n",
       "    </tr>\n",
       "  </thead>\n",
       "  <tbody>\n",
       "    <tr>\n",
       "      <th rowspan=\"5\" valign=\"top\">2011</th>\n",
       "      <th>大眾傳播學士學位學程</th>\n",
       "      <td>0</td>\n",
       "      <td>9</td>\n",
       "      <td>3</td>\n",
       "      <td>13</td>\n",
       "      <td>0</td>\n",
       "      <td>3</td>\n",
       "      <td>0</td>\n",
       "      <td>0</td>\n",
       "      <td>0</td>\n",
       "      <td>2</td>\n",
       "      <td>...</td>\n",
       "      <td>10</td>\n",
       "      <td>4</td>\n",
       "      <td>15</td>\n",
       "      <td>54</td>\n",
       "      <td>2</td>\n",
       "      <td>1</td>\n",
       "      <td>0</td>\n",
       "      <td>4</td>\n",
       "      <td>15</td>\n",
       "      <td>3</td>\n",
       "    </tr>\n",
       "    <tr>\n",
       "      <th>大眾傳播學研究所碩士在職專班</th>\n",
       "      <td>1</td>\n",
       "      <td>2</td>\n",
       "      <td>0</td>\n",
       "      <td>1</td>\n",
       "      <td>0</td>\n",
       "      <td>0</td>\n",
       "      <td>0</td>\n",
       "      <td>0</td>\n",
       "      <td>0</td>\n",
       "      <td>0</td>\n",
       "      <td>...</td>\n",
       "      <td>1</td>\n",
       "      <td>0</td>\n",
       "      <td>0</td>\n",
       "      <td>17</td>\n",
       "      <td>0</td>\n",
       "      <td>0</td>\n",
       "      <td>0</td>\n",
       "      <td>0</td>\n",
       "      <td>0</td>\n",
       "      <td>0</td>\n",
       "    </tr>\n",
       "    <tr>\n",
       "      <th>大眾傳播學研究所碩士班</th>\n",
       "      <td>0</td>\n",
       "      <td>6</td>\n",
       "      <td>1</td>\n",
       "      <td>5</td>\n",
       "      <td>0</td>\n",
       "      <td>0</td>\n",
       "      <td>0</td>\n",
       "      <td>0</td>\n",
       "      <td>0</td>\n",
       "      <td>0</td>\n",
       "      <td>...</td>\n",
       "      <td>0</td>\n",
       "      <td>0</td>\n",
       "      <td>0</td>\n",
       "      <td>21</td>\n",
       "      <td>0</td>\n",
       "      <td>3</td>\n",
       "      <td>2</td>\n",
       "      <td>0</td>\n",
       "      <td>0</td>\n",
       "      <td>5</td>\n",
       "    </tr>\n",
       "    <tr>\n",
       "      <th>中國文學系</th>\n",
       "      <td>0</td>\n",
       "      <td>12</td>\n",
       "      <td>0</td>\n",
       "      <td>10</td>\n",
       "      <td>0</td>\n",
       "      <td>1</td>\n",
       "      <td>0</td>\n",
       "      <td>0</td>\n",
       "      <td>0</td>\n",
       "      <td>7</td>\n",
       "      <td>...</td>\n",
       "      <td>5</td>\n",
       "      <td>4</td>\n",
       "      <td>19</td>\n",
       "      <td>35</td>\n",
       "      <td>1</td>\n",
       "      <td>3</td>\n",
       "      <td>8</td>\n",
       "      <td>7</td>\n",
       "      <td>18</td>\n",
       "      <td>6</td>\n",
       "    </tr>\n",
       "    <tr>\n",
       "      <th>中國文學系博士班</th>\n",
       "      <td>0</td>\n",
       "      <td>0</td>\n",
       "      <td>0</td>\n",
       "      <td>2</td>\n",
       "      <td>0</td>\n",
       "      <td>0</td>\n",
       "      <td>0</td>\n",
       "      <td>0</td>\n",
       "      <td>0</td>\n",
       "      <td>0</td>\n",
       "      <td>...</td>\n",
       "      <td>0</td>\n",
       "      <td>0</td>\n",
       "      <td>0</td>\n",
       "      <td>4</td>\n",
       "      <td>0</td>\n",
       "      <td>0</td>\n",
       "      <td>0</td>\n",
       "      <td>0</td>\n",
       "      <td>0</td>\n",
       "      <td>0</td>\n",
       "    </tr>\n",
       "    <tr>\n",
       "      <th>...</th>\n",
       "      <th>...</th>\n",
       "      <td>...</td>\n",
       "      <td>...</td>\n",
       "      <td>...</td>\n",
       "      <td>...</td>\n",
       "      <td>...</td>\n",
       "      <td>...</td>\n",
       "      <td>...</td>\n",
       "      <td>...</td>\n",
       "      <td>...</td>\n",
       "      <td>...</td>\n",
       "      <td>...</td>\n",
       "      <td>...</td>\n",
       "      <td>...</td>\n",
       "      <td>...</td>\n",
       "      <td>...</td>\n",
       "      <td>...</td>\n",
       "      <td>...</td>\n",
       "      <td>...</td>\n",
       "      <td>...</td>\n",
       "      <td>...</td>\n",
       "      <td>...</td>\n",
       "    </tr>\n",
       "    <tr>\n",
       "      <th rowspan=\"5\" valign=\"top\">2015</th>\n",
       "      <th>護理學系二年制在職專班</th>\n",
       "      <td>0</td>\n",
       "      <td>0</td>\n",
       "      <td>0</td>\n",
       "      <td>4</td>\n",
       "      <td>0</td>\n",
       "      <td>0</td>\n",
       "      <td>0</td>\n",
       "      <td>0</td>\n",
       "      <td>0</td>\n",
       "      <td>3</td>\n",
       "      <td>...</td>\n",
       "      <td>1</td>\n",
       "      <td>0</td>\n",
       "      <td>7</td>\n",
       "      <td>7</td>\n",
       "      <td>1</td>\n",
       "      <td>1</td>\n",
       "      <td>1</td>\n",
       "      <td>1</td>\n",
       "      <td>1</td>\n",
       "      <td>7</td>\n",
       "    </tr>\n",
       "    <tr>\n",
       "      <th>護理學系碩士班</th>\n",
       "      <td>0</td>\n",
       "      <td>0</td>\n",
       "      <td>0</td>\n",
       "      <td>0</td>\n",
       "      <td>0</td>\n",
       "      <td>0</td>\n",
       "      <td>0</td>\n",
       "      <td>0</td>\n",
       "      <td>0</td>\n",
       "      <td>0</td>\n",
       "      <td>...</td>\n",
       "      <td>0</td>\n",
       "      <td>0</td>\n",
       "      <td>0</td>\n",
       "      <td>0</td>\n",
       "      <td>0</td>\n",
       "      <td>0</td>\n",
       "      <td>0</td>\n",
       "      <td>0</td>\n",
       "      <td>0</td>\n",
       "      <td>0</td>\n",
       "    </tr>\n",
       "    <tr>\n",
       "      <th>體育學系</th>\n",
       "      <td>1</td>\n",
       "      <td>1</td>\n",
       "      <td>0</td>\n",
       "      <td>3</td>\n",
       "      <td>0</td>\n",
       "      <td>1</td>\n",
       "      <td>1</td>\n",
       "      <td>0</td>\n",
       "      <td>0</td>\n",
       "      <td>3</td>\n",
       "      <td>...</td>\n",
       "      <td>5</td>\n",
       "      <td>1</td>\n",
       "      <td>7</td>\n",
       "      <td>8</td>\n",
       "      <td>3</td>\n",
       "      <td>3</td>\n",
       "      <td>1</td>\n",
       "      <td>2</td>\n",
       "      <td>2</td>\n",
       "      <td>3</td>\n",
       "    </tr>\n",
       "    <tr>\n",
       "      <th>體育學系碩士在職專班</th>\n",
       "      <td>0</td>\n",
       "      <td>0</td>\n",
       "      <td>0</td>\n",
       "      <td>0</td>\n",
       "      <td>0</td>\n",
       "      <td>0</td>\n",
       "      <td>0</td>\n",
       "      <td>0</td>\n",
       "      <td>0</td>\n",
       "      <td>15</td>\n",
       "      <td>...</td>\n",
       "      <td>2</td>\n",
       "      <td>0</td>\n",
       "      <td>9</td>\n",
       "      <td>11</td>\n",
       "      <td>1</td>\n",
       "      <td>1</td>\n",
       "      <td>2</td>\n",
       "      <td>2</td>\n",
       "      <td>1</td>\n",
       "      <td>7</td>\n",
       "    </tr>\n",
       "    <tr>\n",
       "      <th>體育學系碩士班</th>\n",
       "      <td>0</td>\n",
       "      <td>0</td>\n",
       "      <td>0</td>\n",
       "      <td>0</td>\n",
       "      <td>0</td>\n",
       "      <td>0</td>\n",
       "      <td>0</td>\n",
       "      <td>0</td>\n",
       "      <td>0</td>\n",
       "      <td>0</td>\n",
       "      <td>...</td>\n",
       "      <td>0</td>\n",
       "      <td>0</td>\n",
       "      <td>0</td>\n",
       "      <td>0</td>\n",
       "      <td>0</td>\n",
       "      <td>0</td>\n",
       "      <td>1</td>\n",
       "      <td>1</td>\n",
       "      <td>0</td>\n",
       "      <td>0</td>\n",
       "    </tr>\n",
       "  </tbody>\n",
       "</table>\n",
       "<p>749 rows × 173 columns</p>\n",
       "</div>"
      ],
      "text/plain": [
       "學系                     任職工作部門                                               \\\n",
       "                    人力資源/培訓部門 企劃/行銷部門 公關部門 其他部門 品保部門 客服部門 工程部門 市場調查部門 採購部門   \n",
       "2011 大眾傳播學士學位學程             0       9    3   13    0    3    0      0    0   \n",
       "     大眾傳播學研究所碩士在職專班         1       2    0    1    0    0    0      0    0   \n",
       "     大眾傳播學研究所碩士班            0       6    1    5    0    0    0      0    0   \n",
       "     中國文學系                  0      12    0   10    0    1    0      0    0   \n",
       "     中國文學系博士班               0       0    0    2    0    0    0      0    0   \n",
       "...                       ...     ...  ...  ...  ...  ...  ...    ...  ...   \n",
       "2015 護理學系二年制在職專班            0       0    0    4    0    0    0      0    0   \n",
       "     護理學系碩士班                0       0    0    0    0    0    0      0    0   \n",
       "     體育學系                   1       1    0    3    0    1    1      0    0   \n",
       "     體育學系碩士在職專班             0       0    0    0    0    0    0      0    0   \n",
       "     體育學系碩士班                0       0    0    0    0    0    0      0    0   \n",
       "\n",
       "學系                          ... 那些學習經驗對工作有幫助                             \\\n",
       "                    教育訓練部門  ...         其他訓練 參與國際交流活動 同學及老師人脈 專業知識、之能傳授   \n",
       "2011 大眾傳播學士學位學程          2  ...           10        4      15        54   \n",
       "     大眾傳播學研究所碩士在職專班      0  ...            1        0       0        17   \n",
       "     大眾傳播學研究所碩士班         0  ...            0        0       0        21   \n",
       "     中國文學系               7  ...            5        4      19        35   \n",
       "     中國文學系博士班            0  ...            0        0       0         4   \n",
       "...                    ...  ...          ...      ...     ...       ...   \n",
       "2015 護理學系二年制在職專班         3  ...            1        0       7         7   \n",
       "     護理學系碩士班             0  ...            0        0       0         0   \n",
       "     體育學系                3  ...            5        1       7         8   \n",
       "     體育學系碩士在職專班         15  ...            2        0       9        11   \n",
       "     體育學系碩士班             0  ...            0        0       0         0   \n",
       "\n",
       "學系                                                              \n",
       "                    志工服務、服務學習 業界實習 研究或教學助理 社團活動 語言學習 課程實務/實作活動  \n",
       "2011 大眾傳播學士學位學程             2    1       0    4   15         3  \n",
       "     大眾傳播學研究所碩士在職專班         0    0       0    0    0         0  \n",
       "     大眾傳播學研究所碩士班            0    3       2    0    0         5  \n",
       "     中國文學系                  1    3       8    7   18         6  \n",
       "     中國文學系博士班               0    0       0    0    0         0  \n",
       "...                       ...  ...     ...  ...  ...       ...  \n",
       "2015 護理學系二年制在職專班            1    1       1    1    1         7  \n",
       "     護理學系碩士班                0    0       0    0    0         0  \n",
       "     體育學系                   3    3       1    2    2         3  \n",
       "     體育學系碩士在職專班             1    1       2    2    1         7  \n",
       "     體育學系碩士班                0    0       1    1    0         0  \n",
       "\n",
       "[749 rows x 173 columns]"
      ]
     },
     "execution_count": 66,
     "metadata": {},
     "output_type": "execute_result"
    }
   ],
   "source": [
    "x"
   ]
  },
  {
   "cell_type": "code",
   "execution_count": 67,
   "metadata": {
    "id": "64b5307d"
   },
   "outputs": [],
   "source": [
    "#選取薪資欄位查看\n",
    "y= x['薪資']"
   ]
  },
  {
   "cell_type": "code",
   "execution_count": 68,
   "metadata": {
    "colab": {
     "base_uri": "https://localhost:8080/",
     "height": 1000
    },
    "id": "6vTEr2VvHXU-",
    "outputId": "bd6f3c69-67f7-43e6-fe7f-fbb086ffa525"
   },
   "outputs": [
    {
     "data": {
      "text/html": [
       "<div>\n",
       "<style scoped>\n",
       "    .dataframe tbody tr th:only-of-type {\n",
       "        vertical-align: middle;\n",
       "    }\n",
       "\n",
       "    .dataframe tbody tr th {\n",
       "        vertical-align: top;\n",
       "    }\n",
       "\n",
       "    .dataframe thead th {\n",
       "        text-align: right;\n",
       "    }\n",
       "</style>\n",
       "<table border=\"1\" class=\"dataframe\">\n",
       "  <thead>\n",
       "    <tr style=\"text-align: right;\">\n",
       "      <th></th>\n",
       "      <th></th>\n",
       "      <th>100,001-110,000</th>\n",
       "      <th>110,001-120,000</th>\n",
       "      <th>120,001-130,000</th>\n",
       "      <th>130,001-140,000</th>\n",
       "      <th>140,001-150,000</th>\n",
       "      <th>150,001-170,000</th>\n",
       "      <th>170,001-190,000</th>\n",
       "      <th>190,001-210,000</th>\n",
       "      <th>210,001以上</th>\n",
       "      <th>22,000以下</th>\n",
       "      <th>...</th>\n",
       "      <th>52,001-55,000</th>\n",
       "      <th>55,001-60,000</th>\n",
       "      <th>60,001-65,000</th>\n",
       "      <th>65,001-70,000</th>\n",
       "      <th>70,001-75,000</th>\n",
       "      <th>75,001-80,000</th>\n",
       "      <th>80,001-85,000</th>\n",
       "      <th>85,001-90,000</th>\n",
       "      <th>90,001-95,000</th>\n",
       "      <th>95,001-100,000</th>\n",
       "    </tr>\n",
       "  </thead>\n",
       "  <tbody>\n",
       "    <tr>\n",
       "      <th rowspan=\"5\" valign=\"top\">2011</th>\n",
       "      <th>大眾傳播學士學位學程</th>\n",
       "      <td>1</td>\n",
       "      <td>0</td>\n",
       "      <td>0</td>\n",
       "      <td>0</td>\n",
       "      <td>0</td>\n",
       "      <td>1</td>\n",
       "      <td>0</td>\n",
       "      <td>0</td>\n",
       "      <td>1</td>\n",
       "      <td>3</td>\n",
       "      <td>...</td>\n",
       "      <td>1</td>\n",
       "      <td>4</td>\n",
       "      <td>3</td>\n",
       "      <td>0</td>\n",
       "      <td>2</td>\n",
       "      <td>1</td>\n",
       "      <td>2</td>\n",
       "      <td>0</td>\n",
       "      <td>0</td>\n",
       "      <td>1</td>\n",
       "    </tr>\n",
       "    <tr>\n",
       "      <th>大眾傳播學研究所碩士在職專班</th>\n",
       "      <td>0</td>\n",
       "      <td>0</td>\n",
       "      <td>0</td>\n",
       "      <td>0</td>\n",
       "      <td>0</td>\n",
       "      <td>0</td>\n",
       "      <td>0</td>\n",
       "      <td>0</td>\n",
       "      <td>0</td>\n",
       "      <td>0</td>\n",
       "      <td>...</td>\n",
       "      <td>1</td>\n",
       "      <td>0</td>\n",
       "      <td>0</td>\n",
       "      <td>2</td>\n",
       "      <td>0</td>\n",
       "      <td>0</td>\n",
       "      <td>1</td>\n",
       "      <td>0</td>\n",
       "      <td>0</td>\n",
       "      <td>0</td>\n",
       "    </tr>\n",
       "    <tr>\n",
       "      <th>大眾傳播學研究所碩士班</th>\n",
       "      <td>0</td>\n",
       "      <td>0</td>\n",
       "      <td>0</td>\n",
       "      <td>0</td>\n",
       "      <td>0</td>\n",
       "      <td>0</td>\n",
       "      <td>0</td>\n",
       "      <td>0</td>\n",
       "      <td>0</td>\n",
       "      <td>0</td>\n",
       "      <td>...</td>\n",
       "      <td>0</td>\n",
       "      <td>3</td>\n",
       "      <td>0</td>\n",
       "      <td>0</td>\n",
       "      <td>0</td>\n",
       "      <td>1</td>\n",
       "      <td>0</td>\n",
       "      <td>1</td>\n",
       "      <td>0</td>\n",
       "      <td>0</td>\n",
       "    </tr>\n",
       "    <tr>\n",
       "      <th>中國文學系</th>\n",
       "      <td>1</td>\n",
       "      <td>0</td>\n",
       "      <td>0</td>\n",
       "      <td>0</td>\n",
       "      <td>0</td>\n",
       "      <td>0</td>\n",
       "      <td>0</td>\n",
       "      <td>0</td>\n",
       "      <td>1</td>\n",
       "      <td>1</td>\n",
       "      <td>...</td>\n",
       "      <td>0</td>\n",
       "      <td>0</td>\n",
       "      <td>5</td>\n",
       "      <td>1</td>\n",
       "      <td>1</td>\n",
       "      <td>0</td>\n",
       "      <td>0</td>\n",
       "      <td>0</td>\n",
       "      <td>0</td>\n",
       "      <td>0</td>\n",
       "    </tr>\n",
       "    <tr>\n",
       "      <th>中國文學系博士班</th>\n",
       "      <td>0</td>\n",
       "      <td>0</td>\n",
       "      <td>0</td>\n",
       "      <td>0</td>\n",
       "      <td>0</td>\n",
       "      <td>0</td>\n",
       "      <td>0</td>\n",
       "      <td>0</td>\n",
       "      <td>0</td>\n",
       "      <td>0</td>\n",
       "      <td>...</td>\n",
       "      <td>0</td>\n",
       "      <td>0</td>\n",
       "      <td>0</td>\n",
       "      <td>0</td>\n",
       "      <td>0</td>\n",
       "      <td>0</td>\n",
       "      <td>0</td>\n",
       "      <td>0</td>\n",
       "      <td>0</td>\n",
       "      <td>0</td>\n",
       "    </tr>\n",
       "    <tr>\n",
       "      <th>...</th>\n",
       "      <th>...</th>\n",
       "      <td>...</td>\n",
       "      <td>...</td>\n",
       "      <td>...</td>\n",
       "      <td>...</td>\n",
       "      <td>...</td>\n",
       "      <td>...</td>\n",
       "      <td>...</td>\n",
       "      <td>...</td>\n",
       "      <td>...</td>\n",
       "      <td>...</td>\n",
       "      <td>...</td>\n",
       "      <td>...</td>\n",
       "      <td>...</td>\n",
       "      <td>...</td>\n",
       "      <td>...</td>\n",
       "      <td>...</td>\n",
       "      <td>...</td>\n",
       "      <td>...</td>\n",
       "      <td>...</td>\n",
       "      <td>...</td>\n",
       "      <td>...</td>\n",
       "    </tr>\n",
       "    <tr>\n",
       "      <th rowspan=\"5\" valign=\"top\">2015</th>\n",
       "      <th>護理學系二年制在職專班</th>\n",
       "      <td>0</td>\n",
       "      <td>0</td>\n",
       "      <td>0</td>\n",
       "      <td>0</td>\n",
       "      <td>0</td>\n",
       "      <td>0</td>\n",
       "      <td>0</td>\n",
       "      <td>0</td>\n",
       "      <td>0</td>\n",
       "      <td>0</td>\n",
       "      <td>...</td>\n",
       "      <td>3</td>\n",
       "      <td>0</td>\n",
       "      <td>1</td>\n",
       "      <td>0</td>\n",
       "      <td>0</td>\n",
       "      <td>0</td>\n",
       "      <td>0</td>\n",
       "      <td>0</td>\n",
       "      <td>0</td>\n",
       "      <td>0</td>\n",
       "    </tr>\n",
       "    <tr>\n",
       "      <th>護理學系碩士班</th>\n",
       "      <td>0</td>\n",
       "      <td>0</td>\n",
       "      <td>0</td>\n",
       "      <td>0</td>\n",
       "      <td>0</td>\n",
       "      <td>0</td>\n",
       "      <td>0</td>\n",
       "      <td>0</td>\n",
       "      <td>0</td>\n",
       "      <td>0</td>\n",
       "      <td>...</td>\n",
       "      <td>0</td>\n",
       "      <td>0</td>\n",
       "      <td>0</td>\n",
       "      <td>0</td>\n",
       "      <td>0</td>\n",
       "      <td>0</td>\n",
       "      <td>0</td>\n",
       "      <td>0</td>\n",
       "      <td>0</td>\n",
       "      <td>0</td>\n",
       "    </tr>\n",
       "    <tr>\n",
       "      <th>體育學系</th>\n",
       "      <td>0</td>\n",
       "      <td>0</td>\n",
       "      <td>0</td>\n",
       "      <td>0</td>\n",
       "      <td>0</td>\n",
       "      <td>1</td>\n",
       "      <td>0</td>\n",
       "      <td>0</td>\n",
       "      <td>0</td>\n",
       "      <td>0</td>\n",
       "      <td>...</td>\n",
       "      <td>2</td>\n",
       "      <td>0</td>\n",
       "      <td>2</td>\n",
       "      <td>1</td>\n",
       "      <td>0</td>\n",
       "      <td>0</td>\n",
       "      <td>0</td>\n",
       "      <td>0</td>\n",
       "      <td>0</td>\n",
       "      <td>1</td>\n",
       "    </tr>\n",
       "    <tr>\n",
       "      <th>體育學系碩士在職專班</th>\n",
       "      <td>1</td>\n",
       "      <td>0</td>\n",
       "      <td>0</td>\n",
       "      <td>0</td>\n",
       "      <td>0</td>\n",
       "      <td>0</td>\n",
       "      <td>0</td>\n",
       "      <td>0</td>\n",
       "      <td>0</td>\n",
       "      <td>1</td>\n",
       "      <td>...</td>\n",
       "      <td>1</td>\n",
       "      <td>2</td>\n",
       "      <td>2</td>\n",
       "      <td>1</td>\n",
       "      <td>1</td>\n",
       "      <td>0</td>\n",
       "      <td>0</td>\n",
       "      <td>0</td>\n",
       "      <td>1</td>\n",
       "      <td>0</td>\n",
       "    </tr>\n",
       "    <tr>\n",
       "      <th>體育學系碩士班</th>\n",
       "      <td>0</td>\n",
       "      <td>0</td>\n",
       "      <td>0</td>\n",
       "      <td>0</td>\n",
       "      <td>0</td>\n",
       "      <td>0</td>\n",
       "      <td>0</td>\n",
       "      <td>0</td>\n",
       "      <td>0</td>\n",
       "      <td>0</td>\n",
       "      <td>...</td>\n",
       "      <td>0</td>\n",
       "      <td>0</td>\n",
       "      <td>0</td>\n",
       "      <td>0</td>\n",
       "      <td>0</td>\n",
       "      <td>0</td>\n",
       "      <td>0</td>\n",
       "      <td>0</td>\n",
       "      <td>0</td>\n",
       "      <td>0</td>\n",
       "    </tr>\n",
       "  </tbody>\n",
       "</table>\n",
       "<p>749 rows × 30 columns</p>\n",
       "</div>"
      ],
      "text/plain": [
       "                     100,001-110,000  110,001-120,000  120,001-130,000  \\\n",
       "2011 大眾傳播學士學位學程                    1                0                0   \n",
       "     大眾傳播學研究所碩士在職專班                0                0                0   \n",
       "     大眾傳播學研究所碩士班                   0                0                0   \n",
       "     中國文學系                         1                0                0   \n",
       "     中國文學系博士班                      0                0                0   \n",
       "...                              ...              ...              ...   \n",
       "2015 護理學系二年制在職專班                   0                0                0   \n",
       "     護理學系碩士班                       0                0                0   \n",
       "     體育學系                          0                0                0   \n",
       "     體育學系碩士在職專班                    1                0                0   \n",
       "     體育學系碩士班                       0                0                0   \n",
       "\n",
       "                     130,001-140,000  140,001-150,000  150,001-170,000  \\\n",
       "2011 大眾傳播學士學位學程                    0                0                1   \n",
       "     大眾傳播學研究所碩士在職專班                0                0                0   \n",
       "     大眾傳播學研究所碩士班                   0                0                0   \n",
       "     中國文學系                         0                0                0   \n",
       "     中國文學系博士班                      0                0                0   \n",
       "...                              ...              ...              ...   \n",
       "2015 護理學系二年制在職專班                   0                0                0   \n",
       "     護理學系碩士班                       0                0                0   \n",
       "     體育學系                          0                0                1   \n",
       "     體育學系碩士在職專班                    0                0                0   \n",
       "     體育學系碩士班                       0                0                0   \n",
       "\n",
       "                     170,001-190,000  190,001-210,000  210,001以上  22,000以下  \\\n",
       "2011 大眾傳播學士學位學程                    0                0          1         3   \n",
       "     大眾傳播學研究所碩士在職專班                0                0          0         0   \n",
       "     大眾傳播學研究所碩士班                   0                0          0         0   \n",
       "     中國文學系                         0                0          1         1   \n",
       "     中國文學系博士班                      0                0          0         0   \n",
       "...                              ...              ...        ...       ...   \n",
       "2015 護理學系二年制在職專班                   0                0          0         0   \n",
       "     護理學系碩士班                       0                0          0         0   \n",
       "     體育學系                          0                0          0         0   \n",
       "     體育學系碩士在職專班                    0                0          0         1   \n",
       "     體育學系碩士班                       0                0          0         0   \n",
       "\n",
       "                     ...  52,001-55,000  55,001-60,000  60,001-65,000  \\\n",
       "2011 大眾傳播學士學位學程      ...              1              4              3   \n",
       "     大眾傳播學研究所碩士在職專班  ...              1              0              0   \n",
       "     大眾傳播學研究所碩士班     ...              0              3              0   \n",
       "     中國文學系           ...              0              0              5   \n",
       "     中國文學系博士班        ...              0              0              0   \n",
       "...                  ...            ...            ...            ...   \n",
       "2015 護理學系二年制在職專班     ...              3              0              1   \n",
       "     護理學系碩士班         ...              0              0              0   \n",
       "     體育學系            ...              2              0              2   \n",
       "     體育學系碩士在職專班      ...              1              2              2   \n",
       "     體育學系碩士班         ...              0              0              0   \n",
       "\n",
       "                     65,001-70,000  70,001-75,000  75,001-80,000  \\\n",
       "2011 大眾傳播學士學位學程                  0              2              1   \n",
       "     大眾傳播學研究所碩士在職專班              2              0              0   \n",
       "     大眾傳播學研究所碩士班                 0              0              1   \n",
       "     中國文學系                       1              1              0   \n",
       "     中國文學系博士班                    0              0              0   \n",
       "...                            ...            ...            ...   \n",
       "2015 護理學系二年制在職專班                 0              0              0   \n",
       "     護理學系碩士班                     0              0              0   \n",
       "     體育學系                        1              0              0   \n",
       "     體育學系碩士在職專班                  1              1              0   \n",
       "     體育學系碩士班                     0              0              0   \n",
       "\n",
       "                     80,001-85,000  85,001-90,000  90,001-95,000  \\\n",
       "2011 大眾傳播學士學位學程                  2              0              0   \n",
       "     大眾傳播學研究所碩士在職專班              1              0              0   \n",
       "     大眾傳播學研究所碩士班                 0              1              0   \n",
       "     中國文學系                       0              0              0   \n",
       "     中國文學系博士班                    0              0              0   \n",
       "...                            ...            ...            ...   \n",
       "2015 護理學系二年制在職專班                 0              0              0   \n",
       "     護理學系碩士班                     0              0              0   \n",
       "     體育學系                        0              0              0   \n",
       "     體育學系碩士在職專班                  0              0              1   \n",
       "     體育學系碩士班                     0              0              0   \n",
       "\n",
       "                     95,001-100,000  \n",
       "2011 大眾傳播學士學位學程                   1  \n",
       "     大眾傳播學研究所碩士在職專班               0  \n",
       "     大眾傳播學研究所碩士班                  0  \n",
       "     中國文學系                        0  \n",
       "     中國文學系博士班                     0  \n",
       "...                             ...  \n",
       "2015 護理學系二年制在職專班                  0  \n",
       "     護理學系碩士班                      0  \n",
       "     體育學系                         1  \n",
       "     體育學系碩士在職專班                   0  \n",
       "     體育學系碩士班                      0  \n",
       "\n",
       "[749 rows x 30 columns]"
      ]
     },
     "execution_count": 68,
     "metadata": {},
     "output_type": "execute_result"
    }
   ],
   "source": [
    "y"
   ]
  },
  {
   "cell_type": "code",
   "execution_count": 69,
   "metadata": {
    "id": "0b06ba0c",
    "scrolled": true
   },
   "outputs": [],
   "source": [
    "y= y.stack()"
   ]
  },
  {
   "cell_type": "code",
   "execution_count": 70,
   "metadata": {
    "colab": {
     "base_uri": "https://localhost:8080/"
    },
    "id": "1QFbXxqJ-CwB",
    "outputId": "c127c597-ec99-47f4-a477-43077275507b"
   },
   "outputs": [
    {
     "data": {
      "text/plain": [
       "2011  大眾傳播學士學位學程  100,001-110,000    1\n",
       "                  110,001-120,000    0\n",
       "                  120,001-130,000    0\n",
       "                  130,001-140,000    0\n",
       "                  140,001-150,000    0\n",
       "                                    ..\n",
       "2015  體育學系碩士班     75,001-80,000      0\n",
       "                  80,001-85,000      0\n",
       "                  85,001-90,000      0\n",
       "                  90,001-95,000      0\n",
       "                  95,001-100,000     0\n",
       "Length: 22470, dtype: int64"
      ]
     },
     "execution_count": 70,
     "metadata": {},
     "output_type": "execute_result"
    }
   ],
   "source": [
    "y"
   ]
  },
  {
   "cell_type": "code",
   "execution_count": 71,
   "metadata": {
    "colab": {
     "base_uri": "https://localhost:8080/"
    },
    "id": "c8ba759b",
    "outputId": "f4e5fb51-b0a7-4c8c-f4ff-d8957d920788"
   },
   "outputs": [
    {
     "data": {
      "text/plain": [
       "MultiIndex([(2011, '大眾傳播學士學位學程', '100,001-110,000'),\n",
       "            (2011, '大眾傳播學士學位學程', '110,001-120,000'),\n",
       "            (2011, '大眾傳播學士學位學程', '120,001-130,000'),\n",
       "            (2011, '大眾傳播學士學位學程', '130,001-140,000'),\n",
       "            (2011, '大眾傳播學士學位學程', '140,001-150,000'),\n",
       "            (2011, '大眾傳播學士學位學程', '150,001-170,000'),\n",
       "            (2011, '大眾傳播學士學位學程', '170,001-190,000'),\n",
       "            (2011, '大眾傳播學士學位學程', '190,001-210,000'),\n",
       "            (2011, '大眾傳播學士學位學程',       '210,001以上'),\n",
       "            (2011, '大眾傳播學士學位學程',        '22,000以下'),\n",
       "            ...\n",
       "            (2015,    '體育學系碩士班',   '52,001-55,000'),\n",
       "            (2015,    '體育學系碩士班',   '55,001-60,000'),\n",
       "            (2015,    '體育學系碩士班',   '60,001-65,000'),\n",
       "            (2015,    '體育學系碩士班',   '65,001-70,000'),\n",
       "            (2015,    '體育學系碩士班',   '70,001-75,000'),\n",
       "            (2015,    '體育學系碩士班',   '75,001-80,000'),\n",
       "            (2015,    '體育學系碩士班',   '80,001-85,000'),\n",
       "            (2015,    '體育學系碩士班',   '85,001-90,000'),\n",
       "            (2015,    '體育學系碩士班',   '90,001-95,000'),\n",
       "            (2015,    '體育學系碩士班',  '95,001-100,000')],\n",
       "           length=22470)"
      ]
     },
     "execution_count": 71,
     "metadata": {},
     "output_type": "execute_result"
    }
   ],
   "source": [
    "y.index"
   ]
  },
  {
   "cell_type": "code",
   "execution_count": 72,
   "metadata": {
    "id": "df0542ae",
    "scrolled": false
   },
   "outputs": [],
   "source": [
    "y.name='num'"
   ]
  },
  {
   "cell_type": "code",
   "execution_count": 73,
   "metadata": {},
   "outputs": [
    {
     "name": "stdout",
     "output_type": "stream",
     "text": [
      "num\n"
     ]
    }
   ],
   "source": [
    "print(y.name)"
   ]
  },
  {
   "cell_type": "code",
   "execution_count": 74,
   "metadata": {},
   "outputs": [],
   "source": [
    "y=y.reset_index()"
   ]
  },
  {
   "cell_type": "code",
   "execution_count": 75,
   "metadata": {},
   "outputs": [
    {
     "data": {
      "text/plain": [
       "2012    4680\n",
       "2011    4620\n",
       "2013    4560\n",
       "2014    4410\n",
       "2015    4200\n",
       "Name: level_0, dtype: int64"
      ]
     },
     "execution_count": 75,
     "metadata": {},
     "output_type": "execute_result"
    }
   ],
   "source": [
    "y.level_0.value_counts()"
   ]
  },
  {
   "cell_type": "code",
   "execution_count": 76,
   "metadata": {
    "colab": {
     "base_uri": "https://localhost:8080/"
    },
    "id": "RgeXaPRY-OcM",
    "outputId": "9238f575-a6e9-4c41-9f1b-e284e825bb63"
   },
   "outputs": [
    {
     "data": {
      "text/plain": [
       "臨床心理學系             150\n",
       "餐旅管理學系碩士在職專班       150\n",
       "博物館學研究所碩士班         150\n",
       "兒童與家庭學系碩士在職專班      150\n",
       "法律學系碩士在職專班         150\n",
       "                  ... \n",
       "電機工程學系              30\n",
       "軟體工程與數位創意學士學位學程     30\n",
       "物理學系                30\n",
       "跨文化研究所碩士班           30\n",
       "跨文化研究所碩士在職專班        30\n",
       "Name: level_1, Length: 168, dtype: int64"
      ]
     },
     "execution_count": 76,
     "metadata": {},
     "output_type": "execute_result"
    }
   ],
   "source": [
    "y.level_1.value_counts()"
   ]
  },
  {
   "cell_type": "code",
   "execution_count": 77,
   "metadata": {
    "id": "090d12ae",
    "scrolled": true
   },
   "outputs": [],
   "source": [
    "#整理不同類型的班別\n",
    "import numpy as np\n",
    "y['type']=np.where(y['level_1'].str.contains('碩士班')== True,'碩士班',\n",
    "          np.where(y['level_1'].str.contains('在職專班')== True,'在職專班',\n",
    "          np.where(y['level_1'].str.contains('進修學士班')== True,'進修學士班', \n",
    "          np.where(y['level_1'].str.contains('博士班')== True,'博士班',\n",
    "          np.where(y['level_1'].str.contains('學位學程')== True,'學位學程',\n",
    "          np.where(y['level_1'].str.contains('組')== True,'組', \"大學部\"))))))"
   ]
  },
  {
   "cell_type": "code",
   "execution_count": 78,
   "metadata": {
    "colab": {
     "base_uri": "https://localhost:8080/"
    },
    "id": "6fa26724",
    "outputId": "78a70c78-ce52-4b53-bc2f-0e4a3025e8e9"
   },
   "outputs": [
    {
     "data": {
      "text/plain": [
       "0        學位學程\n",
       "1        學位學程\n",
       "2        學位學程\n",
       "3        學位學程\n",
       "4        學位學程\n",
       "         ... \n",
       "22465     碩士班\n",
       "22466     碩士班\n",
       "22467     碩士班\n",
       "22468     碩士班\n",
       "22469     碩士班\n",
       "Name: type, Length: 22470, dtype: object"
      ]
     },
     "execution_count": 78,
     "metadata": {},
     "output_type": "execute_result"
    }
   ],
   "source": [
    "y.type"
   ]
  },
  {
   "cell_type": "code",
   "execution_count": 79,
   "metadata": {},
   "outputs": [
    {
     "data": {
      "text/plain": [
       "False    22470\n",
       "Name: type, dtype: int64"
      ]
     },
     "execution_count": 79,
     "metadata": {},
     "output_type": "execute_result"
    }
   ],
   "source": [
    "(y['type']=='').value_counts()"
   ]
  },
  {
   "cell_type": "code",
   "execution_count": 80,
   "metadata": {},
   "outputs": [
    {
     "data": {
      "text/plain": [
       "臨床心理學系             150\n",
       "餐旅管理學系碩士在職專班       150\n",
       "博物館學研究所碩士班         150\n",
       "兒童與家庭學系碩士在職專班      150\n",
       "法律學系碩士在職專班         150\n",
       "                  ... \n",
       "電機工程學系              30\n",
       "軟體工程與數位創意學士學位學程     30\n",
       "物理學系                30\n",
       "跨文化研究所碩士班           30\n",
       "跨文化研究所碩士在職專班        30\n",
       "Name: level_1, Length: 168, dtype: int64"
      ]
     },
     "execution_count": 80,
     "metadata": {},
     "output_type": "execute_result"
    }
   ],
   "source": [
    "(y['level_1']).value_counts()"
   ]
  },
  {
   "cell_type": "code",
   "execution_count": 81,
   "metadata": {
    "colab": {
     "base_uri": "https://localhost:8080/"
    },
    "id": "a80cac16",
    "outputId": "d97d1dfb-0865-4bd4-b602-e37f231475a7"
   },
   "outputs": [
    {
     "data": {
      "text/plain": [
       "Series([], Name: level_1, dtype: int64)"
      ]
     },
     "execution_count": 81,
     "metadata": {},
     "output_type": "execute_result"
    }
   ],
   "source": [
    "#不確定是否可解釋為有無空的欄位\n",
    "y['level_1'][y['type']==\"\"].value_counts() "
   ]
  },
  {
   "cell_type": "code",
   "execution_count": 82,
   "metadata": {
    "colab": {
     "base_uri": "https://localhost:8080/"
    },
    "id": "3616e3c7",
    "outputId": "c2051897-4c85-40f3-cbf9-a3289f0a5ede"
   },
   "outputs": [
    {
     "data": {
      "text/plain": [
       "碩士班      6720\n",
       "大學部      6450\n",
       "在職專班     3360\n",
       "進修學士班    2250\n",
       "組        1440\n",
       "博士班      1350\n",
       "學位學程      900\n",
       "Name: type, dtype: int64"
      ]
     },
     "execution_count": 82,
     "metadata": {},
     "output_type": "execute_result"
    }
   ],
   "source": [
    "y['type'].value_counts()"
   ]
  },
  {
   "cell_type": "code",
   "execution_count": 83,
   "metadata": {
    "colab": {
     "base_uri": "https://localhost:8080/"
    },
    "id": "2a0a4ea1",
    "outputId": "3993b124-6ffe-4daf-fd46-e6caaf716d65"
   },
   "outputs": [
    {
     "data": {
      "text/plain": [
       "array(['學位學程', '在職專班', '碩士班', '大學部', '博士班', '進修學士班', '組'], dtype=object)"
      ]
     },
     "execution_count": 83,
     "metadata": {},
     "output_type": "execute_result"
    }
   ],
   "source": [
    "#type的種類有哪些\n",
    "y['type'].unique()"
   ]
  },
  {
   "cell_type": "code",
   "execution_count": 84,
   "metadata": {
    "id": "f0f522c6",
    "scrolled": true
   },
   "outputs": [],
   "source": [
    "y['lower'] = y['level_2'].str.split(\"-\", expand=True)[0].str.replace(',',\"\").str.replace('以上',\"\").str.replace('以下',\"\")"
   ]
  },
  {
   "cell_type": "code",
   "execution_count": 85,
   "metadata": {
    "colab": {
     "base_uri": "https://localhost:8080/",
     "height": 424
    },
    "id": "786fc918",
    "outputId": "e6d8466f-ceda-45b8-8d8b-978af457f9ad"
   },
   "outputs": [
    {
     "data": {
      "text/html": [
       "<div>\n",
       "<style scoped>\n",
       "    .dataframe tbody tr th:only-of-type {\n",
       "        vertical-align: middle;\n",
       "    }\n",
       "\n",
       "    .dataframe tbody tr th {\n",
       "        vertical-align: top;\n",
       "    }\n",
       "\n",
       "    .dataframe thead th {\n",
       "        text-align: right;\n",
       "    }\n",
       "</style>\n",
       "<table border=\"1\" class=\"dataframe\">\n",
       "  <thead>\n",
       "    <tr style=\"text-align: right;\">\n",
       "      <th></th>\n",
       "      <th>level_0</th>\n",
       "      <th>level_1</th>\n",
       "      <th>level_2</th>\n",
       "      <th>num</th>\n",
       "      <th>type</th>\n",
       "      <th>lower</th>\n",
       "    </tr>\n",
       "  </thead>\n",
       "  <tbody>\n",
       "    <tr>\n",
       "      <th>0</th>\n",
       "      <td>2011</td>\n",
       "      <td>大眾傳播學士學位學程</td>\n",
       "      <td>100,001-110,000</td>\n",
       "      <td>1</td>\n",
       "      <td>學位學程</td>\n",
       "      <td>100001</td>\n",
       "    </tr>\n",
       "    <tr>\n",
       "      <th>1</th>\n",
       "      <td>2011</td>\n",
       "      <td>大眾傳播學士學位學程</td>\n",
       "      <td>110,001-120,000</td>\n",
       "      <td>0</td>\n",
       "      <td>學位學程</td>\n",
       "      <td>110001</td>\n",
       "    </tr>\n",
       "    <tr>\n",
       "      <th>2</th>\n",
       "      <td>2011</td>\n",
       "      <td>大眾傳播學士學位學程</td>\n",
       "      <td>120,001-130,000</td>\n",
       "      <td>0</td>\n",
       "      <td>學位學程</td>\n",
       "      <td>120001</td>\n",
       "    </tr>\n",
       "    <tr>\n",
       "      <th>3</th>\n",
       "      <td>2011</td>\n",
       "      <td>大眾傳播學士學位學程</td>\n",
       "      <td>130,001-140,000</td>\n",
       "      <td>0</td>\n",
       "      <td>學位學程</td>\n",
       "      <td>130001</td>\n",
       "    </tr>\n",
       "    <tr>\n",
       "      <th>4</th>\n",
       "      <td>2011</td>\n",
       "      <td>大眾傳播學士學位學程</td>\n",
       "      <td>140,001-150,000</td>\n",
       "      <td>0</td>\n",
       "      <td>學位學程</td>\n",
       "      <td>140001</td>\n",
       "    </tr>\n",
       "    <tr>\n",
       "      <th>...</th>\n",
       "      <td>...</td>\n",
       "      <td>...</td>\n",
       "      <td>...</td>\n",
       "      <td>...</td>\n",
       "      <td>...</td>\n",
       "      <td>...</td>\n",
       "    </tr>\n",
       "    <tr>\n",
       "      <th>22465</th>\n",
       "      <td>2015</td>\n",
       "      <td>體育學系碩士班</td>\n",
       "      <td>75,001-80,000</td>\n",
       "      <td>0</td>\n",
       "      <td>碩士班</td>\n",
       "      <td>75001</td>\n",
       "    </tr>\n",
       "    <tr>\n",
       "      <th>22466</th>\n",
       "      <td>2015</td>\n",
       "      <td>體育學系碩士班</td>\n",
       "      <td>80,001-85,000</td>\n",
       "      <td>0</td>\n",
       "      <td>碩士班</td>\n",
       "      <td>80001</td>\n",
       "    </tr>\n",
       "    <tr>\n",
       "      <th>22467</th>\n",
       "      <td>2015</td>\n",
       "      <td>體育學系碩士班</td>\n",
       "      <td>85,001-90,000</td>\n",
       "      <td>0</td>\n",
       "      <td>碩士班</td>\n",
       "      <td>85001</td>\n",
       "    </tr>\n",
       "    <tr>\n",
       "      <th>22468</th>\n",
       "      <td>2015</td>\n",
       "      <td>體育學系碩士班</td>\n",
       "      <td>90,001-95,000</td>\n",
       "      <td>0</td>\n",
       "      <td>碩士班</td>\n",
       "      <td>90001</td>\n",
       "    </tr>\n",
       "    <tr>\n",
       "      <th>22469</th>\n",
       "      <td>2015</td>\n",
       "      <td>體育學系碩士班</td>\n",
       "      <td>95,001-100,000</td>\n",
       "      <td>0</td>\n",
       "      <td>碩士班</td>\n",
       "      <td>95001</td>\n",
       "    </tr>\n",
       "  </tbody>\n",
       "</table>\n",
       "<p>22470 rows × 6 columns</p>\n",
       "</div>"
      ],
      "text/plain": [
       "       level_0     level_1          level_2  num  type   lower\n",
       "0         2011  大眾傳播學士學位學程  100,001-110,000    1  學位學程  100001\n",
       "1         2011  大眾傳播學士學位學程  110,001-120,000    0  學位學程  110001\n",
       "2         2011  大眾傳播學士學位學程  120,001-130,000    0  學位學程  120001\n",
       "3         2011  大眾傳播學士學位學程  130,001-140,000    0  學位學程  130001\n",
       "4         2011  大眾傳播學士學位學程  140,001-150,000    0  學位學程  140001\n",
       "...        ...         ...              ...  ...   ...     ...\n",
       "22465     2015     體育學系碩士班    75,001-80,000    0   碩士班   75001\n",
       "22466     2015     體育學系碩士班    80,001-85,000    0   碩士班   80001\n",
       "22467     2015     體育學系碩士班    85,001-90,000    0   碩士班   85001\n",
       "22468     2015     體育學系碩士班    90,001-95,000    0   碩士班   90001\n",
       "22469     2015     體育學系碩士班   95,001-100,000    0   碩士班   95001\n",
       "\n",
       "[22470 rows x 6 columns]"
      ]
     },
     "execution_count": 85,
     "metadata": {},
     "output_type": "execute_result"
    }
   ],
   "source": [
    "y"
   ]
  },
  {
   "cell_type": "code",
   "execution_count": 86,
   "metadata": {
    "id": "cecc69db"
   },
   "outputs": [],
   "source": [
    "y['upper'] = y['level_2'].str.split(\"-\", expand=True)[1].str.replace(\"以上\",\"\").str.replace(\"以下\",\"\").str.replace(\",\",\"\")"
   ]
  },
  {
   "cell_type": "code",
   "execution_count": 87,
   "metadata": {
    "colab": {
     "base_uri": "https://localhost:8080/"
    },
    "id": "b7a0b65d",
    "outputId": "3047bf3f-217b-4162-a427-3cb50bf4afea"
   },
   "outputs": [
    {
     "data": {
      "text/plain": [
       "8        210,001以上\n",
       "9         22,000以下\n",
       "38       210,001以上\n",
       "39        22,000以下\n",
       "68       210,001以上\n",
       "           ...    \n",
       "22389     22,000以下\n",
       "22418    210,001以上\n",
       "22419     22,000以下\n",
       "22448    210,001以上\n",
       "22449     22,000以下\n",
       "Name: level_2, Length: 1498, dtype: object"
      ]
     },
     "execution_count": 87,
     "metadata": {},
     "output_type": "execute_result"
    }
   ],
   "source": [
    "y['level_2'][y['upper'].isna()==True]"
   ]
  },
  {
   "cell_type": "code",
   "execution_count": 88,
   "metadata": {
    "id": "69fe91c1",
    "scrolled": true
   },
   "outputs": [],
   "source": [
    "y['upper'].fillna(y['lower'],inplace=True)"
   ]
  },
  {
   "cell_type": "code",
   "execution_count": 89,
   "metadata": {
    "id": "7996acf7"
   },
   "outputs": [],
   "source": [
    "y['upper']=y['upper'].astype(float)"
   ]
  },
  {
   "cell_type": "code",
   "execution_count": 90,
   "metadata": {
    "colab": {
     "base_uri": "https://localhost:8080/"
    },
    "id": "8d6828f6",
    "outputId": "29608e4d-bb05-4e00-ceeb-c1f4df688e52",
    "scrolled": false
   },
   "outputs": [
    {
     "data": {
      "text/plain": [
       "0        110000.0\n",
       "1        120000.0\n",
       "2        130000.0\n",
       "3        140000.0\n",
       "4        150000.0\n",
       "           ...   \n",
       "22465     80000.0\n",
       "22466     85000.0\n",
       "22467     90000.0\n",
       "22468     95000.0\n",
       "22469    100000.0\n",
       "Name: upper, Length: 22470, dtype: float64"
      ]
     },
     "execution_count": 90,
     "metadata": {},
     "output_type": "execute_result"
    }
   ],
   "source": [
    "y['upper']"
   ]
  },
  {
   "cell_type": "code",
   "execution_count": 91,
   "metadata": {
    "id": "3bd525d6"
   },
   "outputs": [],
   "source": [
    "y['lower']=y['lower'].astype(float)"
   ]
  },
  {
   "cell_type": "code",
   "execution_count": 92,
   "metadata": {
    "colab": {
     "base_uri": "https://localhost:8080/"
    },
    "id": "8dbaad7e",
    "outputId": "768557ae-2291-48d8-8917-3df24435c745"
   },
   "outputs": [
    {
     "data": {
      "text/plain": [
       "<bound method IndexOpsMixin.value_counts of 0        2011\n",
       "1        2011\n",
       "2        2011\n",
       "3        2011\n",
       "4        2011\n",
       "         ... \n",
       "22465    2015\n",
       "22466    2015\n",
       "22467    2015\n",
       "22468    2015\n",
       "22469    2015\n",
       "Name: level_0, Length: 22470, dtype: int64>"
      ]
     },
     "execution_count": 92,
     "metadata": {},
     "output_type": "execute_result"
    }
   ],
   "source": [
    "y['level_0'].value_counts"
   ]
  },
  {
   "cell_type": "code",
   "execution_count": 93,
   "metadata": {
    "colab": {
     "base_uri": "https://localhost:8080/"
    },
    "id": "5da8edbf",
    "outputId": "56d9377b-caac-43c7-b643-041313686601"
   },
   "outputs": [
    {
     "data": {
      "text/plain": [
       "False"
      ]
     },
     "execution_count": 93,
     "metadata": {},
     "output_type": "execute_result"
    }
   ],
   "source": [
    "y['upper'].isna().any()"
   ]
  },
  {
   "cell_type": "code",
   "execution_count": 94,
   "metadata": {
    "id": "3c741b47"
   },
   "outputs": [],
   "source": [
    "y['mean_salary'] = (y['upper']+y['lower'])/2 "
   ]
  },
  {
   "cell_type": "code",
   "execution_count": 95,
   "metadata": {
    "colab": {
     "base_uri": "https://localhost:8080/",
     "height": 424
    },
    "id": "a8539a0b",
    "outputId": "56f798e5-4486-4310-f208-e5a56af743ba"
   },
   "outputs": [
    {
     "data": {
      "text/html": [
       "<div>\n",
       "<style scoped>\n",
       "    .dataframe tbody tr th:only-of-type {\n",
       "        vertical-align: middle;\n",
       "    }\n",
       "\n",
       "    .dataframe tbody tr th {\n",
       "        vertical-align: top;\n",
       "    }\n",
       "\n",
       "    .dataframe thead th {\n",
       "        text-align: right;\n",
       "    }\n",
       "</style>\n",
       "<table border=\"1\" class=\"dataframe\">\n",
       "  <thead>\n",
       "    <tr style=\"text-align: right;\">\n",
       "      <th></th>\n",
       "      <th>level_0</th>\n",
       "      <th>level_1</th>\n",
       "      <th>level_2</th>\n",
       "      <th>num</th>\n",
       "      <th>type</th>\n",
       "      <th>lower</th>\n",
       "      <th>upper</th>\n",
       "      <th>mean_salary</th>\n",
       "    </tr>\n",
       "  </thead>\n",
       "  <tbody>\n",
       "    <tr>\n",
       "      <th>0</th>\n",
       "      <td>2011</td>\n",
       "      <td>大眾傳播學士學位學程</td>\n",
       "      <td>100,001-110,000</td>\n",
       "      <td>1</td>\n",
       "      <td>學位學程</td>\n",
       "      <td>100001.0</td>\n",
       "      <td>110000.0</td>\n",
       "      <td>105000.5</td>\n",
       "    </tr>\n",
       "    <tr>\n",
       "      <th>1</th>\n",
       "      <td>2011</td>\n",
       "      <td>大眾傳播學士學位學程</td>\n",
       "      <td>110,001-120,000</td>\n",
       "      <td>0</td>\n",
       "      <td>學位學程</td>\n",
       "      <td>110001.0</td>\n",
       "      <td>120000.0</td>\n",
       "      <td>115000.5</td>\n",
       "    </tr>\n",
       "    <tr>\n",
       "      <th>2</th>\n",
       "      <td>2011</td>\n",
       "      <td>大眾傳播學士學位學程</td>\n",
       "      <td>120,001-130,000</td>\n",
       "      <td>0</td>\n",
       "      <td>學位學程</td>\n",
       "      <td>120001.0</td>\n",
       "      <td>130000.0</td>\n",
       "      <td>125000.5</td>\n",
       "    </tr>\n",
       "    <tr>\n",
       "      <th>3</th>\n",
       "      <td>2011</td>\n",
       "      <td>大眾傳播學士學位學程</td>\n",
       "      <td>130,001-140,000</td>\n",
       "      <td>0</td>\n",
       "      <td>學位學程</td>\n",
       "      <td>130001.0</td>\n",
       "      <td>140000.0</td>\n",
       "      <td>135000.5</td>\n",
       "    </tr>\n",
       "    <tr>\n",
       "      <th>4</th>\n",
       "      <td>2011</td>\n",
       "      <td>大眾傳播學士學位學程</td>\n",
       "      <td>140,001-150,000</td>\n",
       "      <td>0</td>\n",
       "      <td>學位學程</td>\n",
       "      <td>140001.0</td>\n",
       "      <td>150000.0</td>\n",
       "      <td>145000.5</td>\n",
       "    </tr>\n",
       "    <tr>\n",
       "      <th>...</th>\n",
       "      <td>...</td>\n",
       "      <td>...</td>\n",
       "      <td>...</td>\n",
       "      <td>...</td>\n",
       "      <td>...</td>\n",
       "      <td>...</td>\n",
       "      <td>...</td>\n",
       "      <td>...</td>\n",
       "    </tr>\n",
       "    <tr>\n",
       "      <th>22465</th>\n",
       "      <td>2015</td>\n",
       "      <td>體育學系碩士班</td>\n",
       "      <td>75,001-80,000</td>\n",
       "      <td>0</td>\n",
       "      <td>碩士班</td>\n",
       "      <td>75001.0</td>\n",
       "      <td>80000.0</td>\n",
       "      <td>77500.5</td>\n",
       "    </tr>\n",
       "    <tr>\n",
       "      <th>22466</th>\n",
       "      <td>2015</td>\n",
       "      <td>體育學系碩士班</td>\n",
       "      <td>80,001-85,000</td>\n",
       "      <td>0</td>\n",
       "      <td>碩士班</td>\n",
       "      <td>80001.0</td>\n",
       "      <td>85000.0</td>\n",
       "      <td>82500.5</td>\n",
       "    </tr>\n",
       "    <tr>\n",
       "      <th>22467</th>\n",
       "      <td>2015</td>\n",
       "      <td>體育學系碩士班</td>\n",
       "      <td>85,001-90,000</td>\n",
       "      <td>0</td>\n",
       "      <td>碩士班</td>\n",
       "      <td>85001.0</td>\n",
       "      <td>90000.0</td>\n",
       "      <td>87500.5</td>\n",
       "    </tr>\n",
       "    <tr>\n",
       "      <th>22468</th>\n",
       "      <td>2015</td>\n",
       "      <td>體育學系碩士班</td>\n",
       "      <td>90,001-95,000</td>\n",
       "      <td>0</td>\n",
       "      <td>碩士班</td>\n",
       "      <td>90001.0</td>\n",
       "      <td>95000.0</td>\n",
       "      <td>92500.5</td>\n",
       "    </tr>\n",
       "    <tr>\n",
       "      <th>22469</th>\n",
       "      <td>2015</td>\n",
       "      <td>體育學系碩士班</td>\n",
       "      <td>95,001-100,000</td>\n",
       "      <td>0</td>\n",
       "      <td>碩士班</td>\n",
       "      <td>95001.0</td>\n",
       "      <td>100000.0</td>\n",
       "      <td>97500.5</td>\n",
       "    </tr>\n",
       "  </tbody>\n",
       "</table>\n",
       "<p>22470 rows × 8 columns</p>\n",
       "</div>"
      ],
      "text/plain": [
       "       level_0     level_1          level_2  num  type     lower     upper  \\\n",
       "0         2011  大眾傳播學士學位學程  100,001-110,000    1  學位學程  100001.0  110000.0   \n",
       "1         2011  大眾傳播學士學位學程  110,001-120,000    0  學位學程  110001.0  120000.0   \n",
       "2         2011  大眾傳播學士學位學程  120,001-130,000    0  學位學程  120001.0  130000.0   \n",
       "3         2011  大眾傳播學士學位學程  130,001-140,000    0  學位學程  130001.0  140000.0   \n",
       "4         2011  大眾傳播學士學位學程  140,001-150,000    0  學位學程  140001.0  150000.0   \n",
       "...        ...         ...              ...  ...   ...       ...       ...   \n",
       "22465     2015     體育學系碩士班    75,001-80,000    0   碩士班   75001.0   80000.0   \n",
       "22466     2015     體育學系碩士班    80,001-85,000    0   碩士班   80001.0   85000.0   \n",
       "22467     2015     體育學系碩士班    85,001-90,000    0   碩士班   85001.0   90000.0   \n",
       "22468     2015     體育學系碩士班    90,001-95,000    0   碩士班   90001.0   95000.0   \n",
       "22469     2015     體育學系碩士班   95,001-100,000    0   碩士班   95001.0  100000.0   \n",
       "\n",
       "       mean_salary  \n",
       "0         105000.5  \n",
       "1         115000.5  \n",
       "2         125000.5  \n",
       "3         135000.5  \n",
       "4         145000.5  \n",
       "...            ...  \n",
       "22465      77500.5  \n",
       "22466      82500.5  \n",
       "22467      87500.5  \n",
       "22468      92500.5  \n",
       "22469      97500.5  \n",
       "\n",
       "[22470 rows x 8 columns]"
      ]
     },
     "execution_count": 95,
     "metadata": {},
     "output_type": "execute_result"
    }
   ],
   "source": [
    "y"
   ]
  },
  {
   "cell_type": "code",
   "execution_count": 96,
   "metadata": {
    "colab": {
     "base_uri": "https://localhost:8080/"
    },
    "id": "fde8f7e3",
    "outputId": "24435926-c451-4821-f9a5-ed5b319594f4"
   },
   "outputs": [
    {
     "data": {
      "text/plain": [
       "Index(['level_0', 'level_1', 'level_2', 'num', 'type', 'lower', 'upper',\n",
       "       'mean_salary'],\n",
       "      dtype='object')"
      ]
     },
     "execution_count": 96,
     "metadata": {},
     "output_type": "execute_result"
    }
   ],
   "source": [
    "y.columns"
   ]
  },
  {
   "cell_type": "code",
   "execution_count": 97,
   "metadata": {
    "id": "67a2da70"
   },
   "outputs": [],
   "source": [
    "def w_avg(df, values, weights):\n",
    "    d = df[values]\n",
    "    w = df[weights]\n",
    "    return (d * w).sum() / w.sum()"
   ]
  },
  {
   "cell_type": "code",
   "execution_count": 99,
   "metadata": {
    "colab": {
     "base_uri": "https://localhost:8080/"
    },
    "id": "e2f4337e",
    "outputId": "7cf7beea-3db9-4e42-c7f0-3502fcd0e2d6",
    "scrolled": false
   },
   "outputs": [
    {
     "data": {
      "text/plain": [
       "type\n",
       "博士班      81683.687023\n",
       "在職專班     73842.244226\n",
       "碩士班      51989.579868\n",
       "學位學程     48583.100806\n",
       "組        48290.527218\n",
       "大學部      47777.365632\n",
       "進修學士班    46229.374352\n",
       "dtype: float64"
      ]
     },
     "execution_count": 99,
     "metadata": {},
     "output_type": "execute_result"
    }
   ],
   "source": [
    "y.groupby('type').apply(w_avg, 'mean_salary', 'num').sort_values(ascending=False)"
   ]
  },
  {
   "cell_type": "code",
   "execution_count": 100,
   "metadata": {
    "colab": {
     "base_uri": "https://localhost:8080/"
    },
    "id": "7fe629c7",
    "outputId": "5219f4fd-96e5-4d0f-cf31-c76bfe85b029",
    "scrolled": true
   },
   "outputs": [
    {
     "data": {
      "text/plain": [
       "level_1         level_0\n",
       "統計資訊學系進修學士班     2012       180000.500000\n",
       "法律學系博士班         2013       160000.500000\n",
       "化學系博士班          2011       137333.833333\n",
       "科技管理碩士學位學程在職專班  2015       125000.571429\n",
       "應用科學與工程研究所博士班   2012       122000.600000\n",
       "商學研究所博士班        2011       118765.264706\n",
       "醫學系             2014       117143.404762\n",
       "心理學系博士班         2012       116875.625000\n",
       "醫學系             2012       116810.862069\n",
       "法律學系博士班         2015       115000.500000\n",
       "科技管理碩士學位學程在職專班  2012       114333.933333\n",
       "醫學系             2011       109808.192308\n",
       "法律學系碩士在職專班      2013       109700.500000\n",
       "醫學系             2013       107727.772727\n",
       "法律學系碩士在職專班      2011       106100.500000\n",
       "dtype: float64"
      ]
     },
     "execution_count": 100,
     "metadata": {},
     "output_type": "execute_result"
    }
   ],
   "source": [
    "y.groupby(['level_1','level_0']).apply(w_avg, 'mean_salary', 'num').sort_values(ascending=False).head(15)"
   ]
  },
  {
   "cell_type": "code",
   "execution_count": 101,
   "metadata": {
    "colab": {
     "base_uri": "https://localhost:8080/"
    },
    "id": "e1c49c85",
    "outputId": "7bf02d69-e899-4b8f-b8c8-d3e9dd347732"
   },
   "outputs": [
    {
     "data": {
      "text/plain": [
       "100,001-110,000    0.0\n",
       "110,001-120,000    1.0\n",
       "120,001-130,000    1.0\n",
       "130,001-140,000    0.0\n",
       "140,001-150,000    0.0\n",
       "150,001-170,000    0.0\n",
       "170,001-190,000    0.0\n",
       "190,001-210,000    0.0\n",
       "210,001以上          1.0\n",
       "22,000以下           1.0\n",
       "22,001-25,000      0.0\n",
       "25,001-28,000      1.0\n",
       "28,001-31,000      0.0\n",
       "31,000-34,000      7.0\n",
       "34,001-37,000      8.0\n",
       "37,001-40,000      5.0\n",
       "40,001-43,000      5.0\n",
       "43,001-46,000      6.0\n",
       "46,001-49,000      3.0\n",
       "49,001-52,000      4.0\n",
       "52,001-55,000      0.0\n",
       "55,001-60,000      4.0\n",
       "60,001-65,000      5.0\n",
       "65,001-70,000      2.0\n",
       "70,001-75,000      1.0\n",
       "75,001-80,000      1.0\n",
       "80,001-85,000      0.0\n",
       "85,001-90,000      0.0\n",
       "90,001-95,000      0.0\n",
       "95,001-100,000     0.0\n",
       "Name: (2013, 經濟學系), dtype: float64"
      ]
     },
     "execution_count": 101,
     "metadata": {},
     "output_type": "execute_result"
    }
   ],
   "source": [
    "x.loc[2013,'經濟學系']['薪資']"
   ]
  },
  {
   "cell_type": "code",
   "execution_count": 102,
   "metadata": {
    "colab": {
     "base_uri": "https://localhost:8080/",
     "height": 328
    },
    "id": "GPxEtsp7EFF_",
    "outputId": "b21af466-321e-441c-cacb-f3e34f69d219"
   },
   "outputs": [
    {
     "data": {
      "text/plain": [
       "<matplotlib.axes._subplots.AxesSubplot at 0x2a6a5ae84c0>"
      ]
     },
     "execution_count": 102,
     "metadata": {},
     "output_type": "execute_result"
    },
    {
     "data": {
      "image/png": "[encoded data removed]",
      "text/plain": [
       "<Figure size 432x288 with 1 Axes>"
      ]
     },
     "metadata": {
      "needs_background": "light"
     },
     "output_type": "display_data"
    }
   ],
   "source": [
    "y[y.level_1==\"經濟學系\"].groupby('lower').sum()['num'].plot(kind='bar')"
   ]
  },
  {
   "cell_type": "code",
   "execution_count": 103,
   "metadata": {
    "colab": {
     "base_uri": "https://localhost:8080/",
     "height": 309
    },
    "id": "8dee24b8",
    "outputId": "552f4d18-71b8-40f9-83bf-2d3b0a609551",
    "scrolled": true
   },
   "outputs": [
    {
     "data": {
      "text/plain": [
       "<matplotlib.axes._subplots.AxesSubplot at 0x2a6a5c6a460>"
      ]
     },
     "execution_count": 103,
     "metadata": {},
     "output_type": "execute_result"
    },
    {
     "data": {
      "image/png": "[encoded data removed]",
      "text/plain": [
       "<Figure size 432x288 with 1 Axes>"
      ]
     },
     "metadata": {
      "needs_background": "light"
     },
     "output_type": "display_data"
    }
   ],
   "source": [
    "y.groupby(['level_1','level_0']).apply(w_avg, 'mean_salary', 'num')['經濟學系'].plot(kind='bar')"
   ]
  },
  {
   "cell_type": "code",
   "execution_count": 104,
   "metadata": {
    "colab": {
     "base_uri": "https://localhost:8080/"
    },
    "id": "b0e73194",
    "outputId": "7fd7df81-2ca8-4470-9d9e-48465e9da84a"
   },
   "outputs": [
    {
     "data": {
      "text/plain": [
       "49817.98132183908"
      ]
     },
     "execution_count": 104,
     "metadata": {},
     "output_type": "execute_result"
    }
   ],
   "source": [
    "y.groupby(['level_1']).apply(w_avg, 'mean_salary', 'num')['經濟學系']"
   ]
  },
  {
   "cell_type": "code",
   "execution_count": 105,
   "metadata": {
    "id": "RConY5cmrq6w"
   },
   "outputs": [],
   "source": [
    "def weighted_median(df, val, weight):\n",
    "    df_sorted = df.sort_values(val)\n",
    "    cumsum = df_sorted[weight].cumsum()\n",
    "    cutoff = df_sorted[weight].sum() / 2.\n",
    "    return df_sorted[cumsum >= cutoff][val].iloc[0]"
   ]
  },
  {
   "cell_type": "code",
   "execution_count": 106,
   "metadata": {
    "colab": {
     "base_uri": "https://localhost:8080/"
    },
    "id": "XwKq6za2rsHw",
    "outputId": "8fdffc1b-b415-464b-ba8d-c3eb4b30044b"
   },
   "outputs": [
    {
     "data": {
      "text/plain": [
       "level_1\n",
       "醫學系          105000.5\n",
       "學士後法律學系       57500.5\n",
       "資訊工程學系        53500.5\n",
       "物理學系          50500.5\n",
       "呼吸治療學系        47500.5\n",
       "資訊管理學系        47500.5\n",
       "護理學系          47500.5\n",
       "金融與國際企業學系     47500.5\n",
       "電機工程學系        44500.5\n",
       "會計學系          44500.5\n",
       "職能治療學系        44500.5\n",
       "化學系           44500.5\n",
       "經濟學系          44500.5\n",
       "統計資訊學系        44500.5\n",
       "企業管理學系        44500.5\n",
       "日本語文學系        41500.5\n",
       "德語語文學系        41500.5\n",
       "法國語文學系        41500.5\n",
       "法律學系          41500.5\n",
       "廣告傳播學系        41500.5\n",
       "體育學系          41500.5\n",
       "公共衛生學系        41500.5\n",
       "哲學系           41500.5\n",
       "數學系           41500.5\n",
       "英國語文學系        41500.5\n",
       "西班牙語文學系       41500.5\n",
       "財經法律學系        41500.5\n",
       "音樂學系          41500.5\n",
       "新聞傳播學系        41500.5\n",
       "兒童與家庭學系       38500.5\n",
       "心理學系          38500.5\n",
       "營養科學系         38500.5\n",
       "景觀設計學系        38500.5\n",
       "餐旅管理學系        38500.5\n",
       "生命科學系         38500.5\n",
       "社會工作學系        38500.5\n",
       "織品服裝學系        38500.5\n",
       "義大利語文學系       38500.5\n",
       "臨床心理學系        38500.5\n",
       "食品科學系         38500.5\n",
       "中國文學系         38500.5\n",
       "應用美術學系        35500.5\n",
       "歷史學系          35500.5\n",
       "影像傳播學系        35500.5\n",
       "宗教學系          35500.5\n",
       "圖書資訊學系        35500.5\n",
       "社會學系          35500.5\n",
       "dtype: float64"
      ]
     },
     "execution_count": 106,
     "metadata": {},
     "output_type": "execute_result"
    }
   ],
   "source": [
    "y[y['type']=='大學部'].groupby(['level_1']).apply(weighted_median,'mean_salary', 'num').sort_values(ascending=False)"
   ]
  },
  {
   "cell_type": "code",
   "execution_count": 107,
   "metadata": {
    "colab": {
     "base_uri": "https://localhost:8080/"
    },
    "id": "e01f6e59",
    "outputId": "fe9fac23-755a-4ae3-d5d8-cd8eb7ee6715"
   },
   "outputs": [
    {
     "data": {
      "text/plain": [
       "(749, 173)"
      ]
     },
     "execution_count": 107,
     "metadata": {},
     "output_type": "execute_result"
    }
   ],
   "source": [
    "x.shape"
   ]
  },
  {
   "cell_type": "code",
   "execution_count": 108,
   "metadata": {
    "colab": {
     "base_uri": "https://localhost:8080/"
    },
    "id": "c23f722d",
    "outputId": "7dfa85ed-76aa-4705-b890-d235c04f6746"
   },
   "outputs": [
    {
     "data": {
      "text/plain": [
       "array([('任職工作部門', '人力資源/培訓部門'), ('任職工作部門', '企劃/行銷部門'), ('任職工作部門', '公關部門'),\n",
       "       ('任職工作部門', '其他部門'), ('任職工作部門', '品保部門'), ('任職工作部門', '客服部門'),\n",
       "       ('任職工作部門', '工程部門'), ('任職工作部門', '市場調查部門'), ('任職工作部門', '採購部門'),\n",
       "       ('任職工作部門', '教育訓練部門'), ('任職工作部門', '業務部門'), ('任職工作部門', '法務部門'),\n",
       "       ('任職工作部門', '營業(運)部門'), ('任職工作部門', '物流部門'), ('任職工作部門', '生產/製造部門'),\n",
       "       ('任職工作部門', '研發/開發部門'), ('任職工作部門', '稽核部門'), ('任職工作部門', '統計部門'),\n",
       "       ('任職工作部門', '行政部門'), ('任職工作部門', '設計部門'), ('任職工作部門', '財務/會計部門'),\n",
       "       ('任職工作部門', '資訊部門'), ('任職機構', '企業(包括民營企業或國營企業...)'),\n",
       "       ('任職機構', '企業(包括民營企業或國營企業等)'), ('任職機構', '其他'), ('任職機構', '其他.1'),\n",
       "       ('任職機構', '創業'), ('任職機構', '創業.1'),\n",
       "       ('任職機構', '學校(包括公私立大學、高中、高職、國中小...)'),\n",
       "       ('任職機構', '學校(包括公私立大學、高中、高職、國中小等)'), ('任職機構', '政府部門(含職業軍人)'),\n",
       "       ('任職機構', '政府部門(含職業軍人).1'), ('任職機構', '自由工作者'),\n",
       "       ('任職機構', '自由工作者(接案維生或個人服務...)'), ('任職機構', '非營利機構'),\n",
       "       ('任職機構', '非營利機構.1'), ('任職行業類別', '不動產業'), ('任職行業類別', '住宿及餐飲業'),\n",
       "       ('任職行業類別', '公共行政及國防、強制性社會安全'), ('任職行業類別', '其他服務業'),\n",
       "       ('任職行業類別', '出版、影音製作傳播及資通訊服務業'), ('任職行業類別', '專業、科學及技術服務業'),\n",
       "       ('任職行業類別', '批發及零售業'), ('任職行業類別', '支援服務業'), ('任職行業類別', '教育業'),\n",
       "       ('任職行業類別', '營建工程業'), ('任職行業類別', '用水供應及污染整治業'),\n",
       "       ('任職行業類別', '礦業及土石採取業'), ('任職行業類別', '藝術、娛樂及休閒服務業'),\n",
       "       ('任職行業類別', '製造業'), ('任職行業類別', '農、林漁牧業'), ('任職行業類別', '運輸及倉儲業'),\n",
       "       ('任職行業類別', '醫療保健及社會工作服務業'), ('任職行業類別', '金融及保險業'),\n",
       "       ('任職行業類別', '電力及燃氣供應業'), ('原讀系所的訓練是否對目前工作有幫助', '完全\\n沒幫助'),\n",
       "       ('原讀系所的訓練是否對目前工作有幫助', '尚可'), ('原讀系所的訓練是否對目前工作有幫助', '有點\\n幫助'),\n",
       "       ('原讀系所的訓練是否對目前工作有幫助', '沒幫助'), ('原讀系所的訓練是否對目前工作有幫助', '非常\\n有幫助'),\n",
       "       ('原讀系所的訓練是否與工作相符', '不相符'), ('原讀系所的訓練是否與工作相符', '普通'),\n",
       "       ('原讀系所的訓練是否與工作相符', '相符'), ('原讀系所的訓練是否與工作相符', '非常\\n不相符'),\n",
       "       ('原讀系所的訓練是否與工作相符', '非常\\n相符'), ('如果您有機會再進修，您最想修學校哪一學門', '人文學門'),\n",
       "       ('如果您有機會再進修，您最想修學校哪一學門', '傳播學門'), ('如果您有機會再進修，您最想修學校哪一學門', '其他學門'),\n",
       "       ('如果您有機會再進修，您最想修學校哪一學門', '商業及管理學門'),\n",
       "       ('如果您有機會再進修，您最想修學校哪一學門', '工程學門'),\n",
       "       ('如果您有機會再進修，您最想修學校哪一學門', '建築及都市規劃學門'),\n",
       "       ('如果您有機會再進修，您最想修學校哪一學門', '教育學門'),\n",
       "       ('如果您有機會再進修，您最想修學校哪一學門', '數學及統計門'),\n",
       "       ('如果您有機會再進修，您最想修學校哪一學門', '民生學門'),\n",
       "       ('如果您有機會再進修，您最想修學校哪一學門', '沒有進修需求'),\n",
       "       ('如果您有機會再進修，您最想修學校哪一學門', '法律學門'), ('如果您有機會再進修，您最想修學校哪一學門', '獸醫學門'),\n",
       "       ('如果您有機會再進修，您最想修學校哪一學門', '環境保護學門'),\n",
       "       ('如果您有機會再進修，您最想修學校哪一學門', '生命科學門'),\n",
       "       ('如果您有機會再進修，您最想修學校哪一學門', '社會及行為科學門'),\n",
       "       ('如果您有機會再進修，您最想修學校哪一學門', '社會服務學門'),\n",
       "       ('如果您有機會再進修，您最想修學校哪一學門', '自然科學門'),\n",
       "       ('如果您有機會再進修，您最想修學校哪一學門', '藝術學門'), ('如果您有機會再進修，您最想修學校哪一學門', '設計學門'),\n",
       "       ('如果您有機會再進修，您最想修學校哪一學門', '軍警國防安全學門'),\n",
       "       ('如果您有機會再進修，您最想修學校哪一學門', '農業科學門'),\n",
       "       ('如果您有機會再進修，您最想修學校哪一學門', '運輸服務學門'),\n",
       "       ('如果您有機會再進修，您最想修學校哪一學門', '醫藥衛生學門'),\n",
       "       ('如果您有機會再進修，您最想修學校哪一學門', '電算機學門'), ('學校對於校友那些能力的培養最有幫助', '人際互動能力'),\n",
       "       ('學校對於校友那些能力的培養最有幫助', '其他'), ('學校對於校友那些能力的培養最有幫助', '創新能力'),\n",
       "       ('學校對於校友那些能力的培養最有幫助', '問題解決能力'), ('學校對於校友那些能力的培養最有幫助', '團隊合作能力'),\n",
       "       ('學校對於校友那些能力的培養最有幫助', '外語能力'),\n",
       "       ('學校對於校友那些能力的培養最有幫助', '工作紀律、責任感及時間管理能力'),\n",
       "       ('學校對於校友那些能力的培養最有幫助', '持續學習能力'), ('學校對於校友那些能力的培養最有幫助', '溝通表達能力'),\n",
       "       ('學校對於校友那些能力的培養最有幫助', '資訊科技應用能力'),\n",
       "       ('學校對於校友那些能力的培養最有幫助', '跨領域整合能力'), ('學校對於校友那些能力的培養最有幫助', '領導能力'),\n",
       "       ('工作地(國別)', '中美洲'), ('工作地(國別)', '亞洲(港、澳、大陸)'),\n",
       "       ('工作地(國別)', '亞洲(港、澳、大陸以外)'), ('工作地(國別)', '北美洲'),\n",
       "       ('工作地(國別)', '南美洲'), ('工作地(國別)', '台灣'), ('工作地(國別)', '大洋洲'),\n",
       "       ('工作地(國別)', '歐洲'), ('工作地(國別)', '非洲'),\n",
       "       ('已追蹤人數', 'Unnamed: 2_level_1'), ('應追蹤人數', 'Unnamed: 1_level_1'),\n",
       "       ('未追蹤人數', 'Unnamed: 3_level_1'), ('畢業生認為在校學弟妹應該加強之能力', '人際互動能力'),\n",
       "       ('畢業生認為在校學弟妹應該加強之能力', '其他'), ('畢業生認為在校學弟妹應該加強之能力', '創新能力'),\n",
       "       ('畢業生認為在校學弟妹應該加強之能力', '問題解決能力'), ('畢業生認為在校學弟妹應該加強之能力', '團隊合作能力'),\n",
       "       ('畢業生認為在校學弟妹應該加強之能力', '外語能力'),\n",
       "       ('畢業生認為在校學弟妹應該加強之能力', '工作紀律、責任感及時間管理能力'),\n",
       "       ('畢業生認為在校學弟妹應該加強之能力', '持續學習能力'), ('畢業生認為在校學弟妹應該加強之能力', '溝通表達能力'),\n",
       "       ('畢業生認為在校學弟妹應該加強之能力', '資訊科技應用能力'),\n",
       "       ('畢業生認為在校學弟妹應該加強之能力', '跨領域整合能力'), ('畢業生認為在校學弟妹應該加強之能力', '領導能力'),\n",
       "       ('目前狀況', 'Unnamed: 4_level_1'), ('目前狀況', 'Unnamed: 5_level_1'),\n",
       "       ('目前狀況', '其他\\n(含無意願工作)'), ('目前狀況', '升學中或繼續進修中'), ('目前狀況', '家管'),\n",
       "       ('目前狀況', '尋找工作中'), ('目前狀況', '服役中或等待服役中'), ('目前狀況', '準備考試中'),\n",
       "       ('薪資', '100,001-110,000'), ('薪資', '110,001-120,000'),\n",
       "       ('薪資', '120,001-130,000'), ('薪資', '130,001-140,000'),\n",
       "       ('薪資', '140,001-150,000'), ('薪資', '150,001-170,000'),\n",
       "       ('薪資', '170,001-190,000'), ('薪資', '190,001-210,000'),\n",
       "       ('薪資', '210,001以上'), ('薪資', '22,000以下'), ('薪資', '22,001-25,000'),\n",
       "       ('薪資', '25,001-28,000'), ('薪資', '28,001-31,000'),\n",
       "       ('薪資', '31,000-34,000'), ('薪資', '34,001-37,000'),\n",
       "       ('薪資', '37,001-40,000'), ('薪資', '40,001-43,000'),\n",
       "       ('薪資', '43,001-46,000'), ('薪資', '46,001-49,000'),\n",
       "       ('薪資', '49,001-52,000'), ('薪資', '52,001-55,000'),\n",
       "       ('薪資', '55,001-60,000'), ('薪資', '60,001-65,000'),\n",
       "       ('薪資', '65,001-70,000'), ('薪資', '70,001-75,000'),\n",
       "       ('薪資', '75,001-80,000'), ('薪資', '80,001-85,000'),\n",
       "       ('薪資', '85,001-90,000'), ('薪資', '90,001-95,000'),\n",
       "       ('薪資', '95,001-100,000'), ('那些學習經驗對工作有幫助', '其他訓練'),\n",
       "       ('那些學習經驗對工作有幫助', '參與國際交流活動'), ('那些學習經驗對工作有幫助', '同學及老師人脈'),\n",
       "       ('那些學習經驗對工作有幫助', '專業知識、之能傳授'), ('那些學習經驗對工作有幫助', '志工服務、服務學習'),\n",
       "       ('那些學習經驗對工作有幫助', '業界實習'), ('那些學習經驗對工作有幫助', '研究或教學助理'),\n",
       "       ('那些學習經驗對工作有幫助', '社團活動'), ('那些學習經驗對工作有幫助', '語言學習'),\n",
       "       ('那些學習經驗對工作有幫助', '課程實務/實作活動')], dtype=object)"
      ]
     },
     "execution_count": 108,
     "metadata": {},
     "output_type": "execute_result"
    }
   ],
   "source": [
    "x.columns.values"
   ]
  },
  {
   "cell_type": "code",
   "execution_count": 109,
   "metadata": {
    "id": "a7799389"
   },
   "outputs": [],
   "source": [
    "from matplotlib.font_manager import FontProperties  # 匯入FontProperties\n",
    "font = FontProperties(fname=\"SimHei.ttf\", size=14)  # 設定字型"
   ]
  },
  {
   "cell_type": "code",
   "execution_count": 110,
   "metadata": {
    "id": "b7f0dce6"
   },
   "outputs": [],
   "source": [
    "#Jupyter notebook\n",
    "from pylab import mpl\n",
    "mpl.rcParams['font.sans-serif'] = ['Microsoft YaHei']    # 指定預設字型:解決plot不能顯示中文問題\n",
    "mpl.rcParams['axes.unicode_minus'] = False           # 解決儲存影象是負號'-'顯示為方塊的問題\n"
   ]
  },
  {
   "cell_type": "code",
   "execution_count": 111,
   "metadata": {
    "colab": {
     "base_uri": "https://localhost:8080/",
     "height": 724
    },
    "id": "thQ6aMFWSs4x",
    "outputId": "4c441e37-1424-4d44-972c-a16bdbacb626"
   },
   "outputs": [
    {
     "data": {
      "text/html": [
       "<div>\n",
       "<style scoped>\n",
       "    .dataframe tbody tr th:only-of-type {\n",
       "        vertical-align: middle;\n",
       "    }\n",
       "\n",
       "    .dataframe tbody tr th {\n",
       "        vertical-align: top;\n",
       "    }\n",
       "\n",
       "    .dataframe thead tr th {\n",
       "        text-align: left;\n",
       "    }\n",
       "</style>\n",
       "<table border=\"1\" class=\"dataframe\">\n",
       "  <thead>\n",
       "    <tr>\n",
       "      <th></th>\n",
       "      <th>學系</th>\n",
       "      <th colspan=\"10\" halign=\"left\">任職工作部門</th>\n",
       "      <th>...</th>\n",
       "      <th colspan=\"10\" halign=\"left\">那些學習經驗對工作有幫助</th>\n",
       "    </tr>\n",
       "    <tr>\n",
       "      <th></th>\n",
       "      <th></th>\n",
       "      <th>人力資源/培訓部門</th>\n",
       "      <th>企劃/行銷部門</th>\n",
       "      <th>公關部門</th>\n",
       "      <th>其他部門</th>\n",
       "      <th>品保部門</th>\n",
       "      <th>客服部門</th>\n",
       "      <th>工程部門</th>\n",
       "      <th>市場調查部門</th>\n",
       "      <th>採購部門</th>\n",
       "      <th>教育訓練部門</th>\n",
       "      <th>...</th>\n",
       "      <th>其他訓練</th>\n",
       "      <th>參與國際交流活動</th>\n",
       "      <th>同學及老師人脈</th>\n",
       "      <th>專業知識、之能傳授</th>\n",
       "      <th>志工服務、服務學習</th>\n",
       "      <th>業界實習</th>\n",
       "      <th>研究或教學助理</th>\n",
       "      <th>社團活動</th>\n",
       "      <th>語言學習</th>\n",
       "      <th>課程實務/實作活動</th>\n",
       "    </tr>\n",
       "  </thead>\n",
       "  <tbody>\n",
       "    <tr>\n",
       "      <th rowspan=\"5\" valign=\"top\">2011</th>\n",
       "      <th>大眾傳播學士學位學程</th>\n",
       "      <td>0</td>\n",
       "      <td>9</td>\n",
       "      <td>3</td>\n",
       "      <td>13</td>\n",
       "      <td>0</td>\n",
       "      <td>3</td>\n",
       "      <td>0</td>\n",
       "      <td>0</td>\n",
       "      <td>0</td>\n",
       "      <td>2</td>\n",
       "      <td>...</td>\n",
       "      <td>10</td>\n",
       "      <td>4</td>\n",
       "      <td>15</td>\n",
       "      <td>54</td>\n",
       "      <td>2</td>\n",
       "      <td>1</td>\n",
       "      <td>0</td>\n",
       "      <td>4</td>\n",
       "      <td>15</td>\n",
       "      <td>3</td>\n",
       "    </tr>\n",
       "    <tr>\n",
       "      <th>大眾傳播學研究所碩士在職專班</th>\n",
       "      <td>1</td>\n",
       "      <td>2</td>\n",
       "      <td>0</td>\n",
       "      <td>1</td>\n",
       "      <td>0</td>\n",
       "      <td>0</td>\n",
       "      <td>0</td>\n",
       "      <td>0</td>\n",
       "      <td>0</td>\n",
       "      <td>0</td>\n",
       "      <td>...</td>\n",
       "      <td>1</td>\n",
       "      <td>0</td>\n",
       "      <td>0</td>\n",
       "      <td>17</td>\n",
       "      <td>0</td>\n",
       "      <td>0</td>\n",
       "      <td>0</td>\n",
       "      <td>0</td>\n",
       "      <td>0</td>\n",
       "      <td>0</td>\n",
       "    </tr>\n",
       "    <tr>\n",
       "      <th>大眾傳播學研究所碩士班</th>\n",
       "      <td>0</td>\n",
       "      <td>6</td>\n",
       "      <td>1</td>\n",
       "      <td>5</td>\n",
       "      <td>0</td>\n",
       "      <td>0</td>\n",
       "      <td>0</td>\n",
       "      <td>0</td>\n",
       "      <td>0</td>\n",
       "      <td>0</td>\n",
       "      <td>...</td>\n",
       "      <td>0</td>\n",
       "      <td>0</td>\n",
       "      <td>0</td>\n",
       "      <td>21</td>\n",
       "      <td>0</td>\n",
       "      <td>3</td>\n",
       "      <td>2</td>\n",
       "      <td>0</td>\n",
       "      <td>0</td>\n",
       "      <td>5</td>\n",
       "    </tr>\n",
       "    <tr>\n",
       "      <th>中國文學系</th>\n",
       "      <td>0</td>\n",
       "      <td>12</td>\n",
       "      <td>0</td>\n",
       "      <td>10</td>\n",
       "      <td>0</td>\n",
       "      <td>1</td>\n",
       "      <td>0</td>\n",
       "      <td>0</td>\n",
       "      <td>0</td>\n",
       "      <td>7</td>\n",
       "      <td>...</td>\n",
       "      <td>5</td>\n",
       "      <td>4</td>\n",
       "      <td>19</td>\n",
       "      <td>35</td>\n",
       "      <td>1</td>\n",
       "      <td>3</td>\n",
       "      <td>8</td>\n",
       "      <td>7</td>\n",
       "      <td>18</td>\n",
       "      <td>6</td>\n",
       "    </tr>\n",
       "    <tr>\n",
       "      <th>中國文學系博士班</th>\n",
       "      <td>0</td>\n",
       "      <td>0</td>\n",
       "      <td>0</td>\n",
       "      <td>2</td>\n",
       "      <td>0</td>\n",
       "      <td>0</td>\n",
       "      <td>0</td>\n",
       "      <td>0</td>\n",
       "      <td>0</td>\n",
       "      <td>0</td>\n",
       "      <td>...</td>\n",
       "      <td>0</td>\n",
       "      <td>0</td>\n",
       "      <td>0</td>\n",
       "      <td>4</td>\n",
       "      <td>0</td>\n",
       "      <td>0</td>\n",
       "      <td>0</td>\n",
       "      <td>0</td>\n",
       "      <td>0</td>\n",
       "      <td>0</td>\n",
       "    </tr>\n",
       "    <tr>\n",
       "      <th>...</th>\n",
       "      <th>...</th>\n",
       "      <td>...</td>\n",
       "      <td>...</td>\n",
       "      <td>...</td>\n",
       "      <td>...</td>\n",
       "      <td>...</td>\n",
       "      <td>...</td>\n",
       "      <td>...</td>\n",
       "      <td>...</td>\n",
       "      <td>...</td>\n",
       "      <td>...</td>\n",
       "      <td>...</td>\n",
       "      <td>...</td>\n",
       "      <td>...</td>\n",
       "      <td>...</td>\n",
       "      <td>...</td>\n",
       "      <td>...</td>\n",
       "      <td>...</td>\n",
       "      <td>...</td>\n",
       "      <td>...</td>\n",
       "      <td>...</td>\n",
       "      <td>...</td>\n",
       "    </tr>\n",
       "    <tr>\n",
       "      <th rowspan=\"5\" valign=\"top\">2015</th>\n",
       "      <th>護理學系二年制在職專班</th>\n",
       "      <td>0</td>\n",
       "      <td>0</td>\n",
       "      <td>0</td>\n",
       "      <td>4</td>\n",
       "      <td>0</td>\n",
       "      <td>0</td>\n",
       "      <td>0</td>\n",
       "      <td>0</td>\n",
       "      <td>0</td>\n",
       "      <td>3</td>\n",
       "      <td>...</td>\n",
       "      <td>1</td>\n",
       "      <td>0</td>\n",
       "      <td>7</td>\n",
       "      <td>7</td>\n",
       "      <td>1</td>\n",
       "      <td>1</td>\n",
       "      <td>1</td>\n",
       "      <td>1</td>\n",
       "      <td>1</td>\n",
       "      <td>7</td>\n",
       "    </tr>\n",
       "    <tr>\n",
       "      <th>護理學系碩士班</th>\n",
       "      <td>0</td>\n",
       "      <td>0</td>\n",
       "      <td>0</td>\n",
       "      <td>0</td>\n",
       "      <td>0</td>\n",
       "      <td>0</td>\n",
       "      <td>0</td>\n",
       "      <td>0</td>\n",
       "      <td>0</td>\n",
       "      <td>0</td>\n",
       "      <td>...</td>\n",
       "      <td>0</td>\n",
       "      <td>0</td>\n",
       "      <td>0</td>\n",
       "      <td>0</td>\n",
       "      <td>0</td>\n",
       "      <td>0</td>\n",
       "      <td>0</td>\n",
       "      <td>0</td>\n",
       "      <td>0</td>\n",
       "      <td>0</td>\n",
       "    </tr>\n",
       "    <tr>\n",
       "      <th>體育學系</th>\n",
       "      <td>1</td>\n",
       "      <td>1</td>\n",
       "      <td>0</td>\n",
       "      <td>3</td>\n",
       "      <td>0</td>\n",
       "      <td>1</td>\n",
       "      <td>1</td>\n",
       "      <td>0</td>\n",
       "      <td>0</td>\n",
       "      <td>3</td>\n",
       "      <td>...</td>\n",
       "      <td>5</td>\n",
       "      <td>1</td>\n",
       "      <td>7</td>\n",
       "      <td>8</td>\n",
       "      <td>3</td>\n",
       "      <td>3</td>\n",
       "      <td>1</td>\n",
       "      <td>2</td>\n",
       "      <td>2</td>\n",
       "      <td>3</td>\n",
       "    </tr>\n",
       "    <tr>\n",
       "      <th>體育學系碩士在職專班</th>\n",
       "      <td>0</td>\n",
       "      <td>0</td>\n",
       "      <td>0</td>\n",
       "      <td>0</td>\n",
       "      <td>0</td>\n",
       "      <td>0</td>\n",
       "      <td>0</td>\n",
       "      <td>0</td>\n",
       "      <td>0</td>\n",
       "      <td>15</td>\n",
       "      <td>...</td>\n",
       "      <td>2</td>\n",
       "      <td>0</td>\n",
       "      <td>9</td>\n",
       "      <td>11</td>\n",
       "      <td>1</td>\n",
       "      <td>1</td>\n",
       "      <td>2</td>\n",
       "      <td>2</td>\n",
       "      <td>1</td>\n",
       "      <td>7</td>\n",
       "    </tr>\n",
       "    <tr>\n",
       "      <th>體育學系碩士班</th>\n",
       "      <td>0</td>\n",
       "      <td>0</td>\n",
       "      <td>0</td>\n",
       "      <td>0</td>\n",
       "      <td>0</td>\n",
       "      <td>0</td>\n",
       "      <td>0</td>\n",
       "      <td>0</td>\n",
       "      <td>0</td>\n",
       "      <td>0</td>\n",
       "      <td>...</td>\n",
       "      <td>0</td>\n",
       "      <td>0</td>\n",
       "      <td>0</td>\n",
       "      <td>0</td>\n",
       "      <td>0</td>\n",
       "      <td>0</td>\n",
       "      <td>1</td>\n",
       "      <td>1</td>\n",
       "      <td>0</td>\n",
       "      <td>0</td>\n",
       "    </tr>\n",
       "  </tbody>\n",
       "</table>\n",
       "<p>749 rows × 173 columns</p>\n",
       "</div>"
      ],
      "text/plain": [
       "學系                     任職工作部門                                               \\\n",
       "                    人力資源/培訓部門 企劃/行銷部門 公關部門 其他部門 品保部門 客服部門 工程部門 市場調查部門 採購部門   \n",
       "2011 大眾傳播學士學位學程             0       9    3   13    0    3    0      0    0   \n",
       "     大眾傳播學研究所碩士在職專班         1       2    0    1    0    0    0      0    0   \n",
       "     大眾傳播學研究所碩士班            0       6    1    5    0    0    0      0    0   \n",
       "     中國文學系                  0      12    0   10    0    1    0      0    0   \n",
       "     中國文學系博士班               0       0    0    2    0    0    0      0    0   \n",
       "...                       ...     ...  ...  ...  ...  ...  ...    ...  ...   \n",
       "2015 護理學系二年制在職專班            0       0    0    4    0    0    0      0    0   \n",
       "     護理學系碩士班                0       0    0    0    0    0    0      0    0   \n",
       "     體育學系                   1       1    0    3    0    1    1      0    0   \n",
       "     體育學系碩士在職專班             0       0    0    0    0    0    0      0    0   \n",
       "     體育學系碩士班                0       0    0    0    0    0    0      0    0   \n",
       "\n",
       "學系                          ... 那些學習經驗對工作有幫助                             \\\n",
       "                    教育訓練部門  ...         其他訓練 參與國際交流活動 同學及老師人脈 專業知識、之能傳授   \n",
       "2011 大眾傳播學士學位學程          2  ...           10        4      15        54   \n",
       "     大眾傳播學研究所碩士在職專班      0  ...            1        0       0        17   \n",
       "     大眾傳播學研究所碩士班         0  ...            0        0       0        21   \n",
       "     中國文學系               7  ...            5        4      19        35   \n",
       "     中國文學系博士班            0  ...            0        0       0         4   \n",
       "...                    ...  ...          ...      ...     ...       ...   \n",
       "2015 護理學系二年制在職專班         3  ...            1        0       7         7   \n",
       "     護理學系碩士班             0  ...            0        0       0         0   \n",
       "     體育學系                3  ...            5        1       7         8   \n",
       "     體育學系碩士在職專班         15  ...            2        0       9        11   \n",
       "     體育學系碩士班             0  ...            0        0       0         0   \n",
       "\n",
       "學系                                                              \n",
       "                    志工服務、服務學習 業界實習 研究或教學助理 社團活動 語言學習 課程實務/實作活動  \n",
       "2011 大眾傳播學士學位學程             2    1       0    4   15         3  \n",
       "     大眾傳播學研究所碩士在職專班         0    0       0    0    0         0  \n",
       "     大眾傳播學研究所碩士班            0    3       2    0    0         5  \n",
       "     中國文學系                  1    3       8    7   18         6  \n",
       "     中國文學系博士班               0    0       0    0    0         0  \n",
       "...                       ...  ...     ...  ...  ...       ...  \n",
       "2015 護理學系二年制在職專班            1    1       1    1    1         7  \n",
       "     護理學系碩士班                0    0       0    0    0         0  \n",
       "     體育學系                   3    3       1    2    2         3  \n",
       "     體育學系碩士在職專班             1    1       2    2    1         7  \n",
       "     體育學系碩士班                0    0       1    1    0         0  \n",
       "\n",
       "[749 rows x 173 columns]"
      ]
     },
     "execution_count": 111,
     "metadata": {},
     "output_type": "execute_result"
    }
   ],
   "source": [
    "x"
   ]
  },
  {
   "cell_type": "code",
   "execution_count": 112,
   "metadata": {
    "colab": {
     "base_uri": "https://localhost:8080/",
     "height": 282
    },
    "id": "GwJ4OL8Jq8y7",
    "outputId": "318242f9-7fa5-4cf4-89fd-fdfc767a380f"
   },
   "outputs": [
    {
     "data": {
      "text/plain": [
       "<matplotlib.axes._subplots.AxesSubplot at 0x2a6a5c37070>"
      ]
     },
     "execution_count": 112,
     "metadata": {},
     "output_type": "execute_result"
    },
    {
     "data": {
      "image/png": "[encoded data removed]",
      "text/plain": [
       "<Figure size 432x288 with 1 Axes>"
      ]
     },
     "metadata": {
      "needs_background": "light"
     },
     "output_type": "display_data"
    }
   ],
   "source": [
    "x.xs('經濟學系',level=1)['那些學習經驗對工作有幫助'].sum(axis=0).sort_values(ascending=False).plot(kind='barh') #horizontal"
   ]
  },
  {
   "cell_type": "code",
   "execution_count": 113,
   "metadata": {
    "colab": {
     "base_uri": "https://localhost:8080/",
     "height": 282
    },
    "id": "7d0c5a90",
    "outputId": "b4fc5329-51aa-4456-d502-c7deeb81079f"
   },
   "outputs": [
    {
     "data": {
      "text/plain": [
       "<matplotlib.axes._subplots.AxesSubplot at 0x2a6a5d226d0>"
      ]
     },
     "execution_count": 113,
     "metadata": {},
     "output_type": "execute_result"
    },
    {
     "data": {
      "image/png": "[encoded data removed]",
      "text/plain": [
       "<Figure size 432x288 with 1 Axes>"
      ]
     },
     "metadata": {
      "needs_background": "light"
     },
     "output_type": "display_data"
    }
   ],
   "source": [
    "x.xs('經濟學系',level=1)['如果您有機會再進修，您最想修學校哪一學門'].sum(axis=0).sort_values(ascending=False).head(10).plot(kind='barh')"
   ]
  },
  {
   "cell_type": "code",
   "execution_count": 114,
   "metadata": {
    "id": "12b1aef4",
    "outputId": "7f887a21-cec7-4786-c325-4c1374f7b42e"
   },
   "outputs": [
    {
     "data": {
      "text/plain": [
       "<matplotlib.axes._subplots.AxesSubplot at 0x2a6a5db1250>"
      ]
     },
     "execution_count": 114,
     "metadata": {},
     "output_type": "execute_result"
    },
    {
     "data": {
      "image/png": "[encoded data removed]",
      "text/plain": [
       "<Figure size 432x288 with 1 Axes>"
      ]
     },
     "metadata": {
      "needs_background": "light"
     },
     "output_type": "display_data"
    }
   ],
   "source": [
    "x.xs('經濟學系',level=1)['任職工作部門'].sum(axis=0).sort_values(ascending=True).head(10).plot(kind='barh')"
   ]
  },
  {
   "cell_type": "code",
   "execution_count": 115,
   "metadata": {
    "id": "7403646e",
    "outputId": "5fb97816-c0f8-4170-f542-0195f8f19c1c"
   },
   "outputs": [
    {
     "data": {
      "text/plain": [
       "<matplotlib.axes._subplots.AxesSubplot at 0x2a6a5da1f40>"
      ]
     },
     "execution_count": 115,
     "metadata": {},
     "output_type": "execute_result"
    },
    {
     "data": {
      "image/png": "[encoded data removed]",
      "text/plain": [
       "<Figure size 432x288 with 1 Axes>"
      ]
     },
     "metadata": {
      "needs_background": "light"
     },
     "output_type": "display_data"
    }
   ],
   "source": [
    "x.xs('經濟學系',level=1)['畢業生認為在校學弟妹應該加強之能力'].sum(axis=0).sort_values(ascending=True).plot(kind='barh')"
   ]
  },
  {
   "cell_type": "code",
   "execution_count": 116,
   "metadata": {
    "id": "d83f02c3",
    "outputId": "83e86433-83fa-4759-9872-a5d2d10ca871"
   },
   "outputs": [
    {
     "data": {
      "text/plain": [
       "<matplotlib.axes._subplots.AxesSubplot at 0x2a6a5e97100>"
      ]
     },
     "execution_count": 116,
     "metadata": {},
     "output_type": "execute_result"
    },
    {
     "data": {
      "image/png": "[encoded data removed]",
      "text/plain": [
       "<Figure size 432x288 with 1 Axes>"
      ]
     },
     "metadata": {},
     "output_type": "display_data"
    }
   ],
   "source": [
    "x.xs('經濟學系',level=1)['原讀系所的訓練是否對目前工作有幫助'].sum(axis=0).sort_values(ascending=False).plot(kind='pie')"
   ]
  },
  {
   "cell_type": "code",
   "execution_count": 117,
   "metadata": {
    "colab": {
     "base_uri": "https://localhost:8080/",
     "height": 282
    },
    "id": "e7f00027",
    "outputId": "382452c8-c1d2-42bc-c414-38b1dbef0862"
   },
   "outputs": [
    {
     "data": {
      "text/plain": [
       "<matplotlib.axes._subplots.AxesSubplot at 0x2a6a5ee9f70>"
      ]
     },
     "execution_count": 117,
     "metadata": {},
     "output_type": "execute_result"
    },
    {
     "data": {
      "image/png": "[encoded data removed]",
      "text/plain": [
       "<Figure size 432x288 with 1 Axes>"
      ]
     },
     "metadata": {
      "needs_background": "light"
     },
     "output_type": "display_data"
    }
   ],
   "source": [
    "x.xs('經濟學系',level=1)['任職行業類別'].sum(axis=0).sort_values(ascending=False).plot(kind='barh')"
   ]
  },
  {
   "cell_type": "code",
   "execution_count": 118,
   "metadata": {
    "colab": {
     "base_uri": "https://localhost:8080/",
     "height": 282
    },
    "id": "07617e94",
    "outputId": "5bf53afd-d573-4692-d4b4-b06820576793",
    "scrolled": true
   },
   "outputs": [
    {
     "data": {
      "text/plain": [
       "<matplotlib.axes._subplots.AxesSubplot at 0x2a6a5f88b80>"
      ]
     },
     "execution_count": 118,
     "metadata": {},
     "output_type": "execute_result"
    },
    {
     "data": {
      "image/png": "[encoded data removed]",
      "text/plain": [
       "<Figure size 432x288 with 1 Axes>"
      ]
     },
     "metadata": {
      "needs_background": "light"
     },
     "output_type": "display_data"
    }
   ],
   "source": [
    "x.xs('經濟學系',level=1)['學校對於校友那些能力的培養最有幫助'].sum(axis=0).sort_values(ascending=False).plot(kind='barh')\n"
   ]
  },
  {
   "cell_type": "code",
   "execution_count": 119,
   "metadata": {
    "colab": {
     "base_uri": "https://localhost:8080/",
     "height": 282
    },
    "id": "f0b487ca",
    "outputId": "0b9de53f-2da8-450b-8312-05f4c21f82a3",
    "scrolled": false
   },
   "outputs": [
    {
     "data": {
      "text/plain": [
       "<matplotlib.axes._subplots.AxesSubplot at 0x2a6a5ff23a0>"
      ]
     },
     "execution_count": 119,
     "metadata": {},
     "output_type": "execute_result"
    },
    {
     "data": {
      "image/png": "[encoded data removed]",
      "text/plain": [
       "<Figure size 432x288 with 1 Axes>"
      ]
     },
     "metadata": {
      "needs_background": "light"
     },
     "output_type": "display_data"
    }
   ],
   "source": [
    "x.xs('經濟學系',level=1)['原讀系所的訓練是否與工作相符'].sum(axis=0).sort_values(ascending=False).plot(kind='barh')\n"
   ]
  },
  {
   "cell_type": "code",
   "execution_count": null,
   "metadata": {},
   "outputs": [],
   "source": []
  }
 ],
 "metadata": {
  "colab": {
   "collapsed_sections": [],
   "provenance": []
  },
  "kernelspec": {
   "display_name": "Python 3",
   "language": "python",
   "name": "python3"
  },
  "language_info": {
   "codemirror_mode": {
    "name": "ipython",
    "version": 3
   },
   "file_extension": ".py",
   "mimetype": "text/x-python",
   "name": "python",
   "nbconvert_exporter": "python",
   "pygments_lexer": "ipython3",
   "version": "3.8.3"
  }
 },
 "nbformat": 4,
 "nbformat_minor": 5
}
